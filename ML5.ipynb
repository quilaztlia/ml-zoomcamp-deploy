{
  "nbformat": 4,
  "nbformat_minor": 0,
  "metadata": {
    "colab": {
      "provenance": [],
      "authorship_tag": "ABX9TyPtFOYWie9PohsVERdw36aH"
    },
    "kernelspec": {
      "name": "python3",
      "display_name": "Python 3"
    },
    "language_info": {
      "name": "python"
    }
  },
  "cells": [
    {
      "cell_type": "code",
      "execution_count": null,
      "metadata": {
        "colab": {
          "base_uri": "https://localhost:8080/"
        },
        "id": "47OjD_LG0swK",
        "outputId": "2cb92b51-5c68-4ef3-ac90-39318257fd39"
      },
      "outputs": [
        {
          "output_type": "stream",
          "name": "stdout",
          "text": [
            "['gender', 'seniorcitizen', 'partner', 'dependents', 'phoneservice', 'multiplelines', 'internetservice', 'onlinesecurity', 'onlinebackup', 'deviceprotection', 'techsupport', 'streamingtv', 'streamingmovies', 'contract', 'paperlessbilling', 'paymentmethod']\n",
            "['tenure', 'monthlycharges', 'totalcharges']\n",
            "['customerid', 'gender', 'partner', 'dependents', 'phoneservice', 'multiplelines', 'internetservice', 'onlinesecurity', 'onlinebackup', 'deviceprotection', 'techsupport', 'streamingtv', 'streamingmovies', 'contract', 'paperlessbilling', 'paymentmethod', 'totalcharges', 'churn']\n"
          ]
        }
      ],
      "source": [
        "# https://github.com/alexeygrigorev/workshops/tree/main/mlzoomcamp-fastapi-uv\n",
        "# https://www.youtube.com/watch?v=jzGzw98Eikk\n",
        "# Dataset: https://www.kaggle.com/datasets/blastchar/telco-customer-churn?resource=download\n",
        "# Lessons: https://www.youtube.com/watch?v=FW_l7lB0HUI&list=PL3MmuxUbc_hIhxl5Ji8t4O6lPAOpHaCLR&index=43\n",
        "\n",
        "import pandas as pd\n",
        "import numpy as np\n",
        "import matplotlib.pyplot as plt\n",
        "\n",
        "df = pd.read_csv('WA_Fn-UseC_-Telco-Customer-Churn.csv')\n",
        "\n",
        "df.columns = df.columns.str.replace(' ', '_').str.lower()\n",
        "\n",
        "# print(df.columns)\n",
        "\n",
        "# categorical = list(df.dtypes[df.dtypes == 'object'].index)\n",
        "# categorical.remove('churn')\n",
        "\n",
        "# numerical = list(df.dtypes[df.dtypes != 'object'].index)\n",
        "numerical = ['tenure', 'monthlycharges', 'totalcharges']\n",
        "\n",
        "categorical = [  'gender', 'seniorcitizen', 'partner', 'dependents',\n",
        "        'phoneservice', 'multiplelines', 'internetservice',\n",
        "       'onlinesecurity', 'onlinebackup', 'deviceprotection', 'techsupport',\n",
        "       'streamingtv', 'streamingmovies', 'contract', 'paperlessbilling',\n",
        "       'paymentmethod']\n",
        "\n",
        "print(categorical)\n",
        "print(numerical)\n",
        "\n",
        "categorical_columns = list(df.dtypes[df.dtypes == 'object'].index)\n",
        "print(categorical_columns)\n",
        "\n",
        "for c in categorical_columns:\n",
        "  df[c] = df[c].str.replace(' ', '_').str.lower()\n",
        "\n",
        "df.churn = (df.churn== 'yes').astype(int)"
      ]
    },
    {
      "cell_type": "code",
      "source": [
        "df.isnull().sum()"
      ],
      "metadata": {
        "colab": {
          "base_uri": "https://localhost:8080/",
          "height": 742
        },
        "id": "KaBxuugUHRui",
        "outputId": "19eb0998-ee58-4486-dc80-af57f31285d8"
      },
      "execution_count": null,
      "outputs": [
        {
          "output_type": "execute_result",
          "data": {
            "text/plain": [
              "customerid          0\n",
              "gender              0\n",
              "seniorcitizen       0\n",
              "partner             0\n",
              "dependents          0\n",
              "tenure              0\n",
              "phoneservice        0\n",
              "multiplelines       0\n",
              "internetservice     0\n",
              "onlinesecurity      0\n",
              "onlinebackup        0\n",
              "deviceprotection    0\n",
              "techsupport         0\n",
              "streamingtv         0\n",
              "streamingmovies     0\n",
              "contract            0\n",
              "paperlessbilling    0\n",
              "paymentmethod       0\n",
              "monthlycharges      0\n",
              "totalcharges        0\n",
              "churn               0\n",
              "dtype: int64"
            ],
            "text/html": [
              "<div>\n",
              "<style scoped>\n",
              "    .dataframe tbody tr th:only-of-type {\n",
              "        vertical-align: middle;\n",
              "    }\n",
              "\n",
              "    .dataframe tbody tr th {\n",
              "        vertical-align: top;\n",
              "    }\n",
              "\n",
              "    .dataframe thead th {\n",
              "        text-align: right;\n",
              "    }\n",
              "</style>\n",
              "<table border=\"1\" class=\"dataframe\">\n",
              "  <thead>\n",
              "    <tr style=\"text-align: right;\">\n",
              "      <th></th>\n",
              "      <th>0</th>\n",
              "    </tr>\n",
              "  </thead>\n",
              "  <tbody>\n",
              "    <tr>\n",
              "      <th>customerid</th>\n",
              "      <td>0</td>\n",
              "    </tr>\n",
              "    <tr>\n",
              "      <th>gender</th>\n",
              "      <td>0</td>\n",
              "    </tr>\n",
              "    <tr>\n",
              "      <th>seniorcitizen</th>\n",
              "      <td>0</td>\n",
              "    </tr>\n",
              "    <tr>\n",
              "      <th>partner</th>\n",
              "      <td>0</td>\n",
              "    </tr>\n",
              "    <tr>\n",
              "      <th>dependents</th>\n",
              "      <td>0</td>\n",
              "    </tr>\n",
              "    <tr>\n",
              "      <th>tenure</th>\n",
              "      <td>0</td>\n",
              "    </tr>\n",
              "    <tr>\n",
              "      <th>phoneservice</th>\n",
              "      <td>0</td>\n",
              "    </tr>\n",
              "    <tr>\n",
              "      <th>multiplelines</th>\n",
              "      <td>0</td>\n",
              "    </tr>\n",
              "    <tr>\n",
              "      <th>internetservice</th>\n",
              "      <td>0</td>\n",
              "    </tr>\n",
              "    <tr>\n",
              "      <th>onlinesecurity</th>\n",
              "      <td>0</td>\n",
              "    </tr>\n",
              "    <tr>\n",
              "      <th>onlinebackup</th>\n",
              "      <td>0</td>\n",
              "    </tr>\n",
              "    <tr>\n",
              "      <th>deviceprotection</th>\n",
              "      <td>0</td>\n",
              "    </tr>\n",
              "    <tr>\n",
              "      <th>techsupport</th>\n",
              "      <td>0</td>\n",
              "    </tr>\n",
              "    <tr>\n",
              "      <th>streamingtv</th>\n",
              "      <td>0</td>\n",
              "    </tr>\n",
              "    <tr>\n",
              "      <th>streamingmovies</th>\n",
              "      <td>0</td>\n",
              "    </tr>\n",
              "    <tr>\n",
              "      <th>contract</th>\n",
              "      <td>0</td>\n",
              "    </tr>\n",
              "    <tr>\n",
              "      <th>paperlessbilling</th>\n",
              "      <td>0</td>\n",
              "    </tr>\n",
              "    <tr>\n",
              "      <th>paymentmethod</th>\n",
              "      <td>0</td>\n",
              "    </tr>\n",
              "    <tr>\n",
              "      <th>monthlycharges</th>\n",
              "      <td>0</td>\n",
              "    </tr>\n",
              "    <tr>\n",
              "      <th>totalcharges</th>\n",
              "      <td>0</td>\n",
              "    </tr>\n",
              "    <tr>\n",
              "      <th>churn</th>\n",
              "      <td>0</td>\n",
              "    </tr>\n",
              "  </tbody>\n",
              "</table>\n",
              "</div><br><label><b>dtype:</b> int64</label>"
            ]
          },
          "metadata": {},
          "execution_count": 3
        }
      ]
    },
    {
      "cell_type": "code",
      "source": [
        "df.totalcharges = pd.to_numeric(df.totalcharges, errors='coerce')\n",
        "df.totalcharges = df.totalcharges.fillna(0)\n",
        "tc = pd.to_numeric(df.totalcharges, errors='coerce')\n",
        "df[tc.isnull()][['customerid','totalcharges']]"
      ],
      "metadata": {
        "colab": {
          "base_uri": "https://localhost:8080/",
          "height": 53
        },
        "id": "MskREROD1gf4",
        "outputId": "eaf139c8-d4f0-47b7-8e25-fdc65957fd81"
      },
      "execution_count": null,
      "outputs": [
        {
          "output_type": "execute_result",
          "data": {
            "text/plain": [
              "Empty DataFrame\n",
              "Columns: [customerid, totalcharges]\n",
              "Index: []"
            ],
            "text/html": [
              "\n",
              "  <div id=\"df-c4ce5be1-ea11-40ad-b844-ddfda864fc6a\" class=\"colab-df-container\">\n",
              "    <div>\n",
              "<style scoped>\n",
              "    .dataframe tbody tr th:only-of-type {\n",
              "        vertical-align: middle;\n",
              "    }\n",
              "\n",
              "    .dataframe tbody tr th {\n",
              "        vertical-align: top;\n",
              "    }\n",
              "\n",
              "    .dataframe thead th {\n",
              "        text-align: right;\n",
              "    }\n",
              "</style>\n",
              "<table border=\"1\" class=\"dataframe\">\n",
              "  <thead>\n",
              "    <tr style=\"text-align: right;\">\n",
              "      <th></th>\n",
              "      <th>customerid</th>\n",
              "      <th>totalcharges</th>\n",
              "    </tr>\n",
              "  </thead>\n",
              "  <tbody>\n",
              "  </tbody>\n",
              "</table>\n",
              "</div>\n",
              "    <div class=\"colab-df-buttons\">\n",
              "\n",
              "  <div class=\"colab-df-container\">\n",
              "    <button class=\"colab-df-convert\" onclick=\"convertToInteractive('df-c4ce5be1-ea11-40ad-b844-ddfda864fc6a')\"\n",
              "            title=\"Convert this dataframe to an interactive table.\"\n",
              "            style=\"display:none;\">\n",
              "\n",
              "  <svg xmlns=\"http://www.w3.org/2000/svg\" height=\"24px\" viewBox=\"0 -960 960 960\">\n",
              "    <path d=\"M120-120v-720h720v720H120Zm60-500h600v-160H180v160Zm220 220h160v-160H400v160Zm0 220h160v-160H400v160ZM180-400h160v-160H180v160Zm440 0h160v-160H620v160ZM180-180h160v-160H180v160Zm440 0h160v-160H620v160Z\"/>\n",
              "  </svg>\n",
              "    </button>\n",
              "\n",
              "  <style>\n",
              "    .colab-df-container {\n",
              "      display:flex;\n",
              "      gap: 12px;\n",
              "    }\n",
              "\n",
              "    .colab-df-convert {\n",
              "      background-color: #E8F0FE;\n",
              "      border: none;\n",
              "      border-radius: 50%;\n",
              "      cursor: pointer;\n",
              "      display: none;\n",
              "      fill: #1967D2;\n",
              "      height: 32px;\n",
              "      padding: 0 0 0 0;\n",
              "      width: 32px;\n",
              "    }\n",
              "\n",
              "    .colab-df-convert:hover {\n",
              "      background-color: #E2EBFA;\n",
              "      box-shadow: 0px 1px 2px rgba(60, 64, 67, 0.3), 0px 1px 3px 1px rgba(60, 64, 67, 0.15);\n",
              "      fill: #174EA6;\n",
              "    }\n",
              "\n",
              "    .colab-df-buttons div {\n",
              "      margin-bottom: 4px;\n",
              "    }\n",
              "\n",
              "    [theme=dark] .colab-df-convert {\n",
              "      background-color: #3B4455;\n",
              "      fill: #D2E3FC;\n",
              "    }\n",
              "\n",
              "    [theme=dark] .colab-df-convert:hover {\n",
              "      background-color: #434B5C;\n",
              "      box-shadow: 0px 1px 3px 1px rgba(0, 0, 0, 0.15);\n",
              "      filter: drop-shadow(0px 1px 2px rgba(0, 0, 0, 0.3));\n",
              "      fill: #FFFFFF;\n",
              "    }\n",
              "  </style>\n",
              "\n",
              "    <script>\n",
              "      const buttonEl =\n",
              "        document.querySelector('#df-c4ce5be1-ea11-40ad-b844-ddfda864fc6a button.colab-df-convert');\n",
              "      buttonEl.style.display =\n",
              "        google.colab.kernel.accessAllowed ? 'block' : 'none';\n",
              "\n",
              "      async function convertToInteractive(key) {\n",
              "        const element = document.querySelector('#df-c4ce5be1-ea11-40ad-b844-ddfda864fc6a');\n",
              "        const dataTable =\n",
              "          await google.colab.kernel.invokeFunction('convertToInteractive',\n",
              "                                                    [key], {});\n",
              "        if (!dataTable) return;\n",
              "\n",
              "        const docLinkHtml = 'Like what you see? Visit the ' +\n",
              "          '<a target=\"_blank\" href=https://colab.research.google.com/notebooks/data_table.ipynb>data table notebook</a>'\n",
              "          + ' to learn more about interactive tables.';\n",
              "        element.innerHTML = '';\n",
              "        dataTable['output_type'] = 'display_data';\n",
              "        await google.colab.output.renderOutput(dataTable, element);\n",
              "        const docLink = document.createElement('div');\n",
              "        docLink.innerHTML = docLinkHtml;\n",
              "        element.appendChild(docLink);\n",
              "      }\n",
              "    </script>\n",
              "  </div>\n",
              "\n",
              "\n",
              "    </div>\n",
              "  </div>\n"
            ],
            "application/vnd.google.colaboratory.intrinsic+json": {
              "type": "dataframe",
              "repr_error": "Out of range float values are not JSON compliant: nan"
            }
          },
          "metadata": {},
          "execution_count": 4
        }
      ]
    },
    {
      "cell_type": "code",
      "source": [
        "from sklearn.model_selection import train_test_split\n",
        "\n",
        "df_full_train, df_test = train_test_split(df, test_size=0.2, random_state=1)\n",
        "print(len(df_full_train))\n",
        "print(len(df_test))\n",
        "\n",
        "df_train, df_val = train_test_split(df_full_train, test_size=0.25, random_state=1)\n",
        "print(len(df_train))\n",
        "print(len(df_val))\n",
        "\n",
        "print(len(df_train) + len(df_val) + len(df_test) , len(df))"
      ],
      "metadata": {
        "colab": {
          "base_uri": "https://localhost:8080/"
        },
        "id": "TwhKBafd1mKj",
        "outputId": "3bcac61d-63ab-4f77-9c32-eee47ccf6f41"
      },
      "execution_count": null,
      "outputs": [
        {
          "output_type": "stream",
          "name": "stdout",
          "text": [
            "5634\n",
            "1409\n",
            "4225\n",
            "1409\n",
            "7043 7043\n"
          ]
        }
      ]
    },
    {
      "cell_type": "code",
      "source": [
        "y_train = df_train.churn.values\n",
        "y_val = df_val.churn.values\n",
        "y_test = df_test.churn.values\n",
        "\n",
        "del df_train['churn']\n",
        "del df_val['churn']\n",
        "del df_test['churn']\n",
        "\n",
        "df_train = df_train.reset_index(drop=True)\n",
        "df_val = df_val.reset_index(drop=True)\n",
        "df_test = df_test.reset_index(drop=True)"
      ],
      "metadata": {
        "id": "K-x8xMAH1yn2"
      },
      "execution_count": null,
      "outputs": []
    },
    {
      "cell_type": "code",
      "source": [
        "from sklearn.feature_extraction import DictVectorizer\n",
        "\n",
        "\n",
        "train_dict = df_train[categorical + numerical].to_dict(orient='records')\n",
        "print(train_dict[0])\n",
        "\n",
        "dv = DictVectorizer(sparse=False)\n",
        "\n",
        "dv.fit(train_dict)\n",
        "\n",
        "X_train = dv.fit_transform(train_dict)\n",
        "print(X_train.shape)\n",
        "\n",
        "dict_val = df_val[categorical + numerical].to_dict(orient='records')\n",
        "X_val = dv.transform(dict_val)\n",
        "print(X_val.shape)"
      ],
      "metadata": {
        "id": "mJ6LNxLe2UcU",
        "colab": {
          "base_uri": "https://localhost:8080/"
        },
        "outputId": "857ed59e-e76c-4611-a249-3d44e6a70319"
      },
      "execution_count": null,
      "outputs": [
        {
          "output_type": "stream",
          "name": "stdout",
          "text": [
            "{'gender': 'female', 'seniorcitizen': 0, 'partner': 'yes', 'dependents': 'yes', 'phoneservice': 'yes', 'multiplelines': 'yes', 'internetservice': 'fiber_optic', 'onlinesecurity': 'yes', 'onlinebackup': 'yes', 'deviceprotection': 'yes', 'techsupport': 'yes', 'streamingtv': 'yes', 'streamingmovies': 'yes', 'contract': 'two_year', 'paperlessbilling': 'yes', 'paymentmethod': 'electronic_check', 'tenure': 72, 'monthlycharges': 115.5, 'totalcharges': 8425.15}\n",
            "(4225, 45)\n",
            "(1409, 45)\n"
          ]
        }
      ]
    },
    {
      "cell_type": "code",
      "source": [
        "from sklearn.linear_model import LogisticRegression\n",
        "\n",
        "print(X_train.shape, y_train.shape)\n",
        "\n",
        "print(y_train.shape)\n",
        "\n",
        "#model = LogisticRegression(solver='liblinear', random_state=1)\n",
        "#model.fit(X_train, y_train)\n",
        "model = LogisticRegression()\n",
        "model.fit(X_train, y_train)\n",
        "\n",
        "model.intercept_\n",
        "model.coef_.round(3)\n",
        "\n",
        "# model.predict_proba(X_val)"
      ],
      "metadata": {
        "colab": {
          "base_uri": "https://localhost:8080/"
        },
        "id": "C8wJXy0m3BA2",
        "outputId": "9304c2db-e888-44a9-b469-1d6a98e5980a"
      },
      "execution_count": null,
      "outputs": [
        {
          "output_type": "stream",
          "name": "stdout",
          "text": [
            "(4225, 45) (4225,)\n",
            "(4225,)\n"
          ]
        },
        {
          "output_type": "stream",
          "name": "stderr",
          "text": [
            "/usr/local/lib/python3.12/dist-packages/sklearn/linear_model/_logistic.py:465: ConvergenceWarning: lbfgs failed to converge (status=1):\n",
            "STOP: TOTAL NO. OF ITERATIONS REACHED LIMIT.\n",
            "\n",
            "Increase the number of iterations (max_iter) or scale the data as shown in:\n",
            "    https://scikit-learn.org/stable/modules/preprocessing.html\n",
            "Please also refer to the documentation for alternative solver options:\n",
            "    https://scikit-learn.org/stable/modules/linear_model.html#logistic-regression\n",
            "  n_iter_i = _check_optimize_result(\n"
          ]
        },
        {
          "output_type": "execute_result",
          "data": {
            "text/plain": [
              "array([[ 0.564, -0.154, -0.519, -0.013, -0.095,  0.071, -0.098, -0.082,\n",
              "        -0.033, -0.076, -0.354,  0.343, -0.098,  0.002, -0.251,  0.162,\n",
              "        -0.02 ,  0.066, -0.098, -0.076,  0.251, -0.098, -0.261, -0.228,\n",
              "         0.119, -0.121,  0.012, -0.095, -0.03 ,  0.045, -0.028,  0.162,\n",
              "        -0.271,  0.221, -0.097, -0.098,  0.087, -0.05 , -0.098,  0.039,\n",
              "         0.194, -0.098, -0.205, -0.072,  0.   ]])"
            ]
          },
          "metadata": {},
          "execution_count": 8
        }
      ]
    },
    {
      "cell_type": "code",
      "source": [
        "# use VAL !!!!\n",
        "y_pred =  model.predict_proba(X_val)[:, 1]\n",
        "print(y_pred)\n",
        "\n",
        "churn_decision = (y_pred >= 0.5)\n",
        "print(churn_decision)\n",
        "\n",
        "df_val[churn_decision].customerid # People to churn\n",
        "\n",
        "print(y_val)\n",
        "\n",
        "\n",
        "churn_decision.astype(int)\n",
        "\n",
        "(y_val == churn_decision).mean()"
      ],
      "metadata": {
        "colab": {
          "base_uri": "https://localhost:8080/"
        },
        "id": "VZB-ErT93K-B",
        "outputId": "89bbaec1-729b-4a92-b965-aef3a9e01f59"
      },
      "execution_count": null,
      "outputs": [
        {
          "output_type": "stream",
          "name": "stdout",
          "text": [
            "[0.00786347 0.20992803 0.2237105  ... 0.15014869 0.77668113 0.81035774]\n",
            "[False False False ... False  True  True]\n",
            "[0 0 0 ... 0 1 1]\n"
          ]
        },
        {
          "output_type": "execute_result",
          "data": {
            "text/plain": [
              "np.float64(0.801277501774308)"
            ]
          },
          "metadata": {},
          "execution_count": 9
        }
      ]
    },
    {
      "cell_type": "markdown",
      "source": [
        "**4.1 Accuracy and dummy model**"
      ],
      "metadata": {
        "id": "mXkro_hTe_UB"
      }
    },
    {
      "cell_type": "code",
      "source": [
        "len(y_val)"
      ],
      "metadata": {
        "colab": {
          "base_uri": "https://localhost:8080/"
        },
        "id": "20neN-W1eWAl",
        "outputId": "4f0b5411-fa6a-45ee-adbe-738f79e60c0b"
      },
      "execution_count": null,
      "outputs": [
        {
          "output_type": "execute_result",
          "data": {
            "text/plain": [
              "1409"
            ]
          },
          "metadata": {},
          "execution_count": 10
        }
      ]
    },
    {
      "cell_type": "code",
      "source": [
        "(y_val == churn_decision).sum() # 1132"
      ],
      "metadata": {
        "colab": {
          "base_uri": "https://localhost:8080/"
        },
        "id": "_dyCTCslfDx6",
        "outputId": "7d12da1a-39fd-4365-fcb9-26c972a92966"
      },
      "execution_count": null,
      "outputs": [
        {
          "output_type": "execute_result",
          "data": {
            "text/plain": [
              "np.int64(1129)"
            ]
          },
          "metadata": {},
          "execution_count": 11
        }
      ]
    },
    {
      "cell_type": "code",
      "source": [
        "thresholds = np.linspace(0, 1, 21)\n",
        "\n",
        "scores = []\n",
        "for t in thresholds:\n",
        "  churn_decision = (y_pred >= t )\n",
        "  score = (churn_decision == y_val).mean()\n",
        "  scores.append( score)\n",
        "  print('%.2f %.3f' %( t, score))"
      ],
      "metadata": {
        "colab": {
          "base_uri": "https://localhost:8080/"
        },
        "id": "tUrzJUebfxic",
        "outputId": "1f9dea2d-d9a6-4e36-ce93-f4ca6d4cb668"
      },
      "execution_count": null,
      "outputs": [
        {
          "output_type": "stream",
          "name": "stdout",
          "text": [
            "0.00 0.274\n",
            "0.05 0.509\n",
            "0.10 0.598\n",
            "0.15 0.664\n",
            "0.20 0.707\n",
            "0.25 0.737\n",
            "0.30 0.759\n",
            "0.35 0.766\n",
            "0.40 0.780\n",
            "0.45 0.793\n",
            "0.50 0.801\n",
            "0.55 0.798\n",
            "0.60 0.797\n",
            "0.65 0.784\n",
            "0.70 0.765\n",
            "0.75 0.744\n",
            "0.80 0.730\n",
            "0.85 0.726\n",
            "0.90 0.726\n",
            "0.95 0.726\n",
            "1.00 0.726\n"
          ]
        }
      ]
    },
    {
      "cell_type": "code",
      "source": [
        "plt.plot(thresholds, scores)"
      ],
      "metadata": {
        "colab": {
          "base_uri": "https://localhost:8080/",
          "height": 447
        },
        "id": "KEj9N4lsgMU6",
        "outputId": "4c3c04cf-206a-4d75-955a-08e425019682"
      },
      "execution_count": null,
      "outputs": [
        {
          "output_type": "execute_result",
          "data": {
            "text/plain": [
              "[<matplotlib.lines.Line2D at 0x7db7d4925160>]"
            ]
          },
          "metadata": {},
          "execution_count": 13
        },
        {
          "output_type": "display_data",
          "data": {
            "text/plain": [
              "<Figure size 640x480 with 1 Axes>"
            ],
            "image/png": "[encoded data removed]"
          },
          "metadata": {}
        }
      ]
    },
    {
      "cell_type": "code",
      "source": [
        "from sklearn.metrics import accuracy_score\n",
        "\n",
        "accuracy_score(y_val, y_pred >= 0.5)"
      ],
      "metadata": {
        "colab": {
          "base_uri": "https://localhost:8080/"
        },
        "id": "plVJ2BDLh7Zb",
        "outputId": "e3db6c91-98fd-446b-9f9a-b7ce64303bac"
      },
      "execution_count": null,
      "outputs": [
        {
          "output_type": "execute_result",
          "data": {
            "text/plain": [
              "0.801277501774308"
            ]
          },
          "metadata": {},
          "execution_count": 14
        }
      ]
    },
    {
      "cell_type": "code",
      "source": [
        "sk_scores = []\n",
        "for t in thresholds:\n",
        "  score = accuracy_score(y_val, y_pred >= t)\n",
        "  print('%.2f %.3f' % (t, score))\n",
        "  sk_scores.append(score)"
      ],
      "metadata": {
        "colab": {
          "base_uri": "https://localhost:8080/"
        },
        "id": "hGZ9D56ch7Oc",
        "outputId": "4e5d6c80-4828-45a2-dc23-6367597f9be6"
      },
      "execution_count": null,
      "outputs": [
        {
          "output_type": "stream",
          "name": "stdout",
          "text": [
            "0.00 0.274\n",
            "0.05 0.509\n",
            "0.10 0.598\n",
            "0.15 0.664\n",
            "0.20 0.707\n",
            "0.25 0.737\n",
            "0.30 0.759\n",
            "0.35 0.766\n",
            "0.40 0.780\n",
            "0.45 0.793\n",
            "0.50 0.801\n",
            "0.55 0.798\n",
            "0.60 0.797\n",
            "0.65 0.784\n",
            "0.70 0.765\n",
            "0.75 0.744\n",
            "0.80 0.730\n",
            "0.85 0.726\n",
            "0.90 0.726\n",
            "0.95 0.726\n",
            "1.00 0.726\n"
          ]
        }
      ]
    },
    {
      "cell_type": "code",
      "source": [
        "plt.plot(thresholds, sk_scores)"
      ],
      "metadata": {
        "colab": {
          "base_uri": "https://localhost:8080/",
          "height": 447
        },
        "id": "6aayMGIRh6_z",
        "outputId": "211c4fdf-93eb-434e-b8e0-2a3efd589a4e"
      },
      "execution_count": null,
      "outputs": [
        {
          "output_type": "execute_result",
          "data": {
            "text/plain": [
              "[<matplotlib.lines.Line2D at 0x7db7d451a8d0>]"
            ]
          },
          "metadata": {},
          "execution_count": 16
        },
        {
          "output_type": "display_data",
          "data": {
            "text/plain": [
              "<Figure size 640x480 with 1 Axes>"
            ],
            "image/png": "[encoded data removed]"
          },
          "metadata": {}
        }
      ]
    },
    {
      "cell_type": "code",
      "source": [
        "print(y_pred)\n",
        "y_pred >= 1"
      ],
      "metadata": {
        "colab": {
          "base_uri": "https://localhost:8080/"
        },
        "id": "l2boxVEvi0KI",
        "outputId": "e6b3dae5-e568-4c8d-c66c-ceccde0f2ee4"
      },
      "execution_count": null,
      "outputs": [
        {
          "output_type": "stream",
          "name": "stdout",
          "text": [
            "[0.00786347 0.20992803 0.2237105  ... 0.15014869 0.77668113 0.81035774]\n"
          ]
        },
        {
          "output_type": "execute_result",
          "data": {
            "text/plain": [
              "array([False, False, False, ..., False, False, False])"
            ]
          },
          "metadata": {},
          "execution_count": 17
        }
      ]
    },
    {
      "cell_type": "code",
      "source": [
        "from collections import Counter\n",
        "\n",
        "Counter(y_pred >=1)\n",
        "\n",
        "#Dummy model produce all people NOT churn"
      ],
      "metadata": {
        "colab": {
          "base_uri": "https://localhost:8080/"
        },
        "id": "3QT46G3UjBiR",
        "outputId": "ee8d105d-db9a-42bd-c4db-0d6dd8b8d9ea"
      },
      "execution_count": null,
      "outputs": [
        {
          "output_type": "execute_result",
          "data": {
            "text/plain": [
              "Counter({np.False_: 1409})"
            ]
          },
          "metadata": {},
          "execution_count": 18
        }
      ]
    },
    {
      "cell_type": "markdown",
      "source": [
        "**3. Confusion table**"
      ],
      "metadata": {
        "id": "O-0Njhi_kqB3"
      }
    },
    {
      "cell_type": "code",
      "source": [
        "# Class Imbalance => accuracy is not representative => misleading\n",
        "# True positive: we predict the correct\n",
        "# True negative: we predict the correct\n",
        "# False positive\n",
        "# False negative\n",
        "actual_positive = (y_val == 1)\n",
        "actual_negative = (y_val == 0)\n",
        "\n",
        "actual_negative\n"
      ],
      "metadata": {
        "colab": {
          "base_uri": "https://localhost:8080/"
        },
        "id": "B6kr-fbDjBVp",
        "outputId": "66dafaad-9f4d-49e4-ba5f-76f8dac07577"
      },
      "execution_count": null,
      "outputs": [
        {
          "output_type": "execute_result",
          "data": {
            "text/plain": [
              "array([ True,  True,  True, ...,  True, False, False])"
            ]
          },
          "metadata": {},
          "execution_count": 19
        }
      ]
    },
    {
      "cell_type": "code",
      "source": [
        "t = 0.5\n",
        "predic_positive = (y_pred >= t)\n",
        "predict_negative = (y_pred < t)\n",
        "\n",
        "predict_negative"
      ],
      "metadata": {
        "colab": {
          "base_uri": "https://localhost:8080/"
        },
        "id": "9JBLnhSHnHO7",
        "outputId": "a7af5093-85f4-40bc-a5c2-80b0b3b0dbd9"
      },
      "execution_count": null,
      "outputs": [
        {
          "output_type": "execute_result",
          "data": {
            "text/plain": [
              "array([ True,  True,  True, ...,  True, False, False])"
            ]
          },
          "metadata": {},
          "execution_count": 20
        }
      ]
    },
    {
      "cell_type": "code",
      "source": [
        "tp = (predic_positive & actual_positive).sum()\n",
        "tn = (predict_negative & actual_negative).sum()\n",
        "\n",
        "fp = (predic_positive & actual_negative).sum()\n",
        "fn = (predict_negative & actual_positive).sum()\n",
        "\n",
        "print(tp, tn, fp, fn, 'all:', (tp + tn + fp + fn))\n",
        "\n"
      ],
      "metadata": {
        "colab": {
          "base_uri": "https://localhost:8080/"
        },
        "id": "BuzCVOoRnZiF",
        "outputId": "f1b07408-64da-462b-93db-28cee5f16967"
      },
      "execution_count": null,
      "outputs": [
        {
          "output_type": "stream",
          "name": "stdout",
          "text": [
            "214 915 108 172 all: 1409\n"
          ]
        }
      ]
    },
    {
      "cell_type": "code",
      "source": [
        "# we can create now :\n",
        "confusion_matrix = np.array([[tn, fp],\n",
        "                             [fn, tp]])\n",
        "\n",
        "confusion_matrix"
      ],
      "metadata": {
        "colab": {
          "base_uri": "https://localhost:8080/"
        },
        "id": "4dum_RqJqNNw",
        "outputId": "bbbbe196-9fae-4d33-9474-0cafd44dfcba"
      },
      "execution_count": null,
      "outputs": [
        {
          "output_type": "execute_result",
          "data": {
            "text/plain": [
              "array([[915, 108],\n",
              "       [172, 214]])"
            ]
          },
          "metadata": {},
          "execution_count": 22
        }
      ]
    },
    {
      "cell_type": "markdown",
      "source": [
        "Evaluation metrics: session overview\n"
      ],
      "metadata": {
        "id": "pCXGdkvWeuaR"
      }
    },
    {
      "cell_type": "code",
      "source": [
        "(confusion_matrix / confusion_matrix.sum()).round(2)\n",
        "\n",
        "# fp: 8% and fn: 12%  make us lost money\n",
        "# accuracy : 80% => tn:65%, tp: 15%"
      ],
      "metadata": {
        "colab": {
          "base_uri": "https://localhost:8080/"
        },
        "id": "Q11trzq0ezjY",
        "outputId": "dff1d2b3-e004-46c6-de5b-eaa5f3857bb3"
      },
      "execution_count": null,
      "outputs": [
        {
          "output_type": "execute_result",
          "data": {
            "text/plain": [
              "array([[0.65, 0.08],\n",
              "       [0.12, 0.15]])"
            ]
          },
          "metadata": {},
          "execution_count": 23
        }
      ]
    },
    {
      "cell_type": "markdown",
      "source": [
        "**4. Precision and Recall**"
      ],
      "metadata": {
        "id": "XCcraDYFtPLo"
      }
    },
    {
      "cell_type": "code",
      "source": [
        "accurracy = (tp + tn)/(tp + tn + fp + fn)\n",
        "accurracy"
      ],
      "metadata": {
        "id": "yCCpFXWpe01R",
        "colab": {
          "base_uri": "https://localhost:8080/"
        },
        "outputId": "16280e45-80c2-4b8b-dfcd-805166070e96"
      },
      "execution_count": null,
      "outputs": [
        {
          "output_type": "execute_result",
          "data": {
            "text/plain": [
              "np.float64(0.801277501774308)"
            ]
          },
          "metadata": {},
          "execution_count": 24
        }
      ]
    },
    {
      "cell_type": "code",
      "source": [
        "# Precision: fraction of correct predictions\n",
        "#            only interested in churning!\n",
        "# Precision = tp / (tp + fp)\n",
        "precision = tp/(tp + fp)\n",
        "precision.round(2)"
      ],
      "metadata": {
        "colab": {
          "base_uri": "https://localhost:8080/"
        },
        "id": "KhYHXWxMrb9J",
        "outputId": "b51cecce-cd2b-4ffa-a236-6c8e33d57688"
      },
      "execution_count": null,
      "outputs": [
        {
          "output_type": "execute_result",
          "data": {
            "text/plain": [
              "np.float64(0.66)"
            ]
          },
          "metadata": {},
          "execution_count": 25
        }
      ]
    },
    {
      "cell_type": "code",
      "source": [
        "# Recall: fraction of correctly identified\n",
        "recall = tp / (tp + fn)\n",
        "recall.round(2)\n",
        "\n",
        "# Meaning 45% is not correctly classified !!"
      ],
      "metadata": {
        "colab": {
          "base_uri": "https://localhost:8080/"
        },
        "id": "ExYUaHhms2qk",
        "outputId": "4f385067-0b16-42b7-a919-59633e860cc5"
      },
      "execution_count": null,
      "outputs": [
        {
          "output_type": "execute_result",
          "data": {
            "text/plain": [
              "np.float64(0.55)"
            ]
          },
          "metadata": {},
          "execution_count": 26
        }
      ]
    },
    {
      "cell_type": "markdown",
      "source": [
        "ROC Curves\n",
        "\n"
      ],
      "metadata": {
        "id": "CYEXjXBXe0K3"
      }
    },
    {
      "cell_type": "code",
      "source": [
        "# ROC: receiving objectiv characteristics\n",
        "#TPR and FPR\n",
        "\n",
        "true_positive_rate = tp/(tp + fn) # all the positive ratio\n",
        "print(true_positive_rate)\n",
        "print(recall)"
      ],
      "metadata": {
        "colab": {
          "base_uri": "https://localhost:8080/"
        },
        "id": "dl6kLOGQvnnR",
        "outputId": "73b10187-5089-4c69-cadd-7712063fb652"
      },
      "execution_count": null,
      "outputs": [
        {
          "output_type": "stream",
          "name": "stdout",
          "text": [
            "0.5544041450777202\n",
            "0.5544041450777202\n"
          ]
        }
      ]
    },
    {
      "cell_type": "code",
      "source": [
        "false_positive_rate = fp/(fp + tn) #\n",
        "print(false_positive_rate)\n",
        "\n"
      ],
      "metadata": {
        "colab": {
          "base_uri": "https://localhost:8080/"
        },
        "id": "OvHy4izoy4ui",
        "outputId": "c440292e-652c-468b-af95-aa1b502f6447"
      },
      "execution_count": null,
      "outputs": [
        {
          "output_type": "stream",
          "name": "stdout",
          "text": [
            "0.10557184750733138\n"
          ]
        }
      ]
    },
    {
      "cell_type": "code",
      "source": [
        "scores = []\n",
        "thresholds =  np.linspace(0, 1, 101)\n",
        "\n",
        "for t in thresholds:\n",
        "  predic_positive = (y_pred >= t)\n",
        "  predict_negative = (y_pred < t)\n",
        "\n",
        "  tp = (predic_positive & actual_positive).sum()\n",
        "  tn = (predict_negative & actual_negative).sum()\n",
        "\n",
        "  fp = (predic_positive & actual_negative).sum()\n",
        "  fn = (predict_negative & actual_positive).sum()\n",
        "  scores.append((t, tp, fp, fn, tn))\n",
        "\n",
        "scores"
      ],
      "metadata": {
        "colab": {
          "base_uri": "https://localhost:8080/"
        },
        "id": "MvG8C7bd0LVa",
        "outputId": "0cabbab4-5fbd-4555-e933-4a2c88b759cb"
      },
      "execution_count": null,
      "outputs": [
        {
          "output_type": "execute_result",
          "data": {
            "text/plain": [
              "[(np.float64(0.0), np.int64(386), np.int64(1023), np.int64(0), np.int64(0)),\n",
              " (np.float64(0.01), np.int64(385), np.int64(903), np.int64(1), np.int64(120)),\n",
              " (np.float64(0.02), np.int64(384), np.int64(812), np.int64(2), np.int64(211)),\n",
              " (np.float64(0.03), np.int64(382), np.int64(753), np.int64(4), np.int64(270)),\n",
              " (np.float64(0.04), np.int64(380), np.int64(708), np.int64(6), np.int64(315)),\n",
              " (np.float64(0.05), np.int64(378), np.int64(684), np.int64(8), np.int64(339)),\n",
              " (np.float64(0.06), np.int64(376), np.int64(660), np.int64(10), np.int64(363)),\n",
              " (np.float64(0.07), np.int64(374), np.int64(631), np.int64(12), np.int64(392)),\n",
              " (np.float64(0.08), np.int64(371), np.int64(601), np.int64(15), np.int64(422)),\n",
              " (np.float64(0.09), np.int64(369), np.int64(569), np.int64(17), np.int64(454)),\n",
              " (np.float64(0.1), np.int64(367), np.int64(547), np.int64(19), np.int64(476)),\n",
              " (np.float64(0.11), np.int64(365), np.int64(520), np.int64(21), np.int64(503)),\n",
              " (np.float64(0.12), np.int64(363), np.int64(503), np.int64(23), np.int64(520)),\n",
              " (np.float64(0.13), np.int64(362), np.int64(481), np.int64(24), np.int64(542)),\n",
              " (np.float64(0.14), np.int64(357), np.int64(454), np.int64(29), np.int64(569)),\n",
              " (np.float64(0.15), np.int64(351), np.int64(439), np.int64(35), np.int64(584)),\n",
              " (np.float64(0.16), np.int64(348), np.int64(420), np.int64(38), np.int64(603)),\n",
              " (np.float64(0.17), np.int64(346), np.int64(399), np.int64(40), np.int64(624)),\n",
              " (np.float64(0.18), np.int64(345), np.int64(390), np.int64(41), np.int64(633)),\n",
              " (np.float64(0.19), np.int64(340), np.int64(372), np.int64(46), np.int64(651)),\n",
              " (np.float64(0.2), np.int64(334), np.int64(361), np.int64(52), np.int64(662)),\n",
              " (np.float64(0.21), np.int64(329), np.int64(350), np.int64(57), np.int64(673)),\n",
              " (np.float64(0.22), np.int64(327), np.int64(334), np.int64(59), np.int64(689)),\n",
              " (np.float64(0.23), np.int64(321), np.int64(318), np.int64(65), np.int64(705)),\n",
              " (np.float64(0.24), np.int64(317), np.int64(309), np.int64(69), np.int64(714)),\n",
              " (np.float64(0.25), np.int64(314), np.int64(298), np.int64(72), np.int64(725)),\n",
              " (np.float64(0.26), np.int64(310), np.int64(282), np.int64(76), np.int64(741)),\n",
              " (np.float64(0.27), np.int64(307), np.int64(271), np.int64(79), np.int64(752)),\n",
              " (np.float64(0.28), np.int64(301), np.int64(265), np.int64(85), np.int64(758)),\n",
              " (np.float64(0.29), np.int64(294), np.int64(252), np.int64(92), np.int64(771)),\n",
              " (np.float64(0.3), np.int64(291), np.int64(244), np.int64(95), np.int64(779)),\n",
              " (np.float64(0.31),\n",
              "  np.int64(283),\n",
              "  np.int64(237),\n",
              "  np.int64(103),\n",
              "  np.int64(786)),\n",
              " (np.float64(0.32),\n",
              "  np.int64(282),\n",
              "  np.int64(230),\n",
              "  np.int64(104),\n",
              "  np.int64(793)),\n",
              " (np.float64(0.33),\n",
              "  np.int64(277),\n",
              "  np.int64(227),\n",
              "  np.int64(109),\n",
              "  np.int64(796)),\n",
              " (np.float64(0.34),\n",
              "  np.int64(273),\n",
              "  np.int64(220),\n",
              "  np.int64(113),\n",
              "  np.int64(803)),\n",
              " (np.float64(0.35000000000000003),\n",
              "  np.int64(271),\n",
              "  np.int64(215),\n",
              "  np.int64(115),\n",
              "  np.int64(808)),\n",
              " (np.float64(0.36),\n",
              "  np.int64(269),\n",
              "  np.int64(210),\n",
              "  np.int64(117),\n",
              "  np.int64(813)),\n",
              " (np.float64(0.37),\n",
              "  np.int64(266),\n",
              "  np.int64(202),\n",
              "  np.int64(120),\n",
              "  np.int64(821)),\n",
              " (np.float64(0.38),\n",
              "  np.int64(263),\n",
              "  np.int64(194),\n",
              "  np.int64(123),\n",
              "  np.int64(829)),\n",
              " (np.float64(0.39),\n",
              "  np.int64(257),\n",
              "  np.int64(185),\n",
              "  np.int64(129),\n",
              "  np.int64(838)),\n",
              " (np.float64(0.4), np.int64(253), np.int64(177), np.int64(133), np.int64(846)),\n",
              " (np.float64(0.41000000000000003),\n",
              "  np.int64(250),\n",
              "  np.int64(165),\n",
              "  np.int64(136),\n",
              "  np.int64(858)),\n",
              " (np.float64(0.42),\n",
              "  np.int64(248),\n",
              "  np.int64(159),\n",
              "  np.int64(138),\n",
              "  np.int64(864)),\n",
              " (np.float64(0.43),\n",
              "  np.int64(241),\n",
              "  np.int64(150),\n",
              "  np.int64(145),\n",
              "  np.int64(873)),\n",
              " (np.float64(0.44),\n",
              "  np.int64(236),\n",
              "  np.int64(146),\n",
              "  np.int64(150),\n",
              "  np.int64(877)),\n",
              " (np.float64(0.45),\n",
              "  np.int64(234),\n",
              "  np.int64(139),\n",
              "  np.int64(152),\n",
              "  np.int64(884)),\n",
              " (np.float64(0.46),\n",
              "  np.int64(227),\n",
              "  np.int64(128),\n",
              "  np.int64(159),\n",
              "  np.int64(895)),\n",
              " (np.float64(0.47000000000000003),\n",
              "  np.int64(223),\n",
              "  np.int64(124),\n",
              "  np.int64(163),\n",
              "  np.int64(899)),\n",
              " (np.float64(0.48),\n",
              "  np.int64(220),\n",
              "  np.int64(119),\n",
              "  np.int64(166),\n",
              "  np.int64(904)),\n",
              " (np.float64(0.49),\n",
              "  np.int64(215),\n",
              "  np.int64(114),\n",
              "  np.int64(171),\n",
              "  np.int64(909)),\n",
              " (np.float64(0.5), np.int64(214), np.int64(108), np.int64(172), np.int64(915)),\n",
              " (np.float64(0.51), np.int64(208), np.int64(99), np.int64(178), np.int64(924)),\n",
              " (np.float64(0.52), np.int64(208), np.int64(94), np.int64(178), np.int64(929)),\n",
              " (np.float64(0.53), np.int64(201), np.int64(91), np.int64(185), np.int64(932)),\n",
              " (np.float64(0.54), np.int64(193), np.int64(88), np.int64(193), np.int64(935)),\n",
              " (np.float64(0.55), np.int64(188), np.int64(86), np.int64(198), np.int64(937)),\n",
              " (np.float64(0.56), np.int64(183), np.int64(77), np.int64(203), np.int64(946)),\n",
              " (np.float64(0.5700000000000001),\n",
              "  np.int64(177),\n",
              "  np.int64(72),\n",
              "  np.int64(209),\n",
              "  np.int64(951)),\n",
              " (np.float64(0.58), np.int64(173), np.int64(68), np.int64(213), np.int64(955)),\n",
              " (np.float64(0.59), np.int64(167), np.int64(60), np.int64(219), np.int64(963)),\n",
              " (np.float64(0.6), np.int64(153), np.int64(53), np.int64(233), np.int64(970)),\n",
              " (np.float64(0.61), np.int64(140), np.int64(48), np.int64(246), np.int64(975)),\n",
              " (np.float64(0.62), np.int64(135), np.int64(45), np.int64(251), np.int64(978)),\n",
              " (np.float64(0.63), np.int64(129), np.int64(41), np.int64(257), np.int64(982)),\n",
              " (np.float64(0.64), np.int64(124), np.int64(38), np.int64(262), np.int64(985)),\n",
              " (np.float64(0.65), np.int64(118), np.int64(36), np.int64(268), np.int64(987)),\n",
              " (np.float64(0.66), np.int64(112), np.int64(31), np.int64(274), np.int64(992)),\n",
              " (np.float64(0.67), np.int64(105), np.int64(27), np.int64(281), np.int64(996)),\n",
              " (np.float64(0.68), np.int64(92), np.int64(26), np.int64(294), np.int64(997)),\n",
              " (np.float64(0.6900000000000001),\n",
              "  np.int64(79),\n",
              "  np.int64(20),\n",
              "  np.int64(307),\n",
              "  np.int64(1003)),\n",
              " (np.float64(0.7000000000000001),\n",
              "  np.int64(69),\n",
              "  np.int64(14),\n",
              "  np.int64(317),\n",
              "  np.int64(1009)),\n",
              " (np.float64(0.71), np.int64(61), np.int64(12), np.int64(325), np.int64(1011)),\n",
              " (np.float64(0.72), np.int64(54), np.int64(10), np.int64(332), np.int64(1013)),\n",
              " (np.float64(0.73), np.int64(44), np.int64(9), np.int64(342), np.int64(1014)),\n",
              " (np.float64(0.74), np.int64(35), np.int64(7), np.int64(351), np.int64(1016)),\n",
              " (np.float64(0.75), np.int64(30), np.int64(5), np.int64(356), np.int64(1018)),\n",
              " (np.float64(0.76), np.int64(24), np.int64(4), np.int64(362), np.int64(1019)),\n",
              " (np.float64(0.77), np.int64(18), np.int64(2), np.int64(368), np.int64(1021)),\n",
              " (np.float64(0.78), np.int64(11), np.int64(0), np.int64(375), np.int64(1023)),\n",
              " (np.float64(0.79), np.int64(11), np.int64(0), np.int64(375), np.int64(1023)),\n",
              " (np.float64(0.8), np.int64(5), np.int64(0), np.int64(381), np.int64(1023)),\n",
              " (np.float64(0.81), np.int64(3), np.int64(0), np.int64(383), np.int64(1023)),\n",
              " (np.float64(0.8200000000000001),\n",
              "  np.int64(2),\n",
              "  np.int64(0),\n",
              "  np.int64(384),\n",
              "  np.int64(1023)),\n",
              " (np.float64(0.8300000000000001),\n",
              "  np.int64(0),\n",
              "  np.int64(0),\n",
              "  np.int64(386),\n",
              "  np.int64(1023)),\n",
              " (np.float64(0.84), np.int64(0), np.int64(0), np.int64(386), np.int64(1023)),\n",
              " (np.float64(0.85), np.int64(0), np.int64(0), np.int64(386), np.int64(1023)),\n",
              " (np.float64(0.86), np.int64(0), np.int64(0), np.int64(386), np.int64(1023)),\n",
              " (np.float64(0.87), np.int64(0), np.int64(0), np.int64(386), np.int64(1023)),\n",
              " (np.float64(0.88), np.int64(0), np.int64(0), np.int64(386), np.int64(1023)),\n",
              " (np.float64(0.89), np.int64(0), np.int64(0), np.int64(386), np.int64(1023)),\n",
              " (np.float64(0.9), np.int64(0), np.int64(0), np.int64(386), np.int64(1023)),\n",
              " (np.float64(0.91), np.int64(0), np.int64(0), np.int64(386), np.int64(1023)),\n",
              " (np.float64(0.92), np.int64(0), np.int64(0), np.int64(386), np.int64(1023)),\n",
              " (np.float64(0.93), np.int64(0), np.int64(0), np.int64(386), np.int64(1023)),\n",
              " (np.float64(0.9400000000000001),\n",
              "  np.int64(0),\n",
              "  np.int64(0),\n",
              "  np.int64(386),\n",
              "  np.int64(1023)),\n",
              " (np.float64(0.9500000000000001),\n",
              "  np.int64(0),\n",
              "  np.int64(0),\n",
              "  np.int64(386),\n",
              "  np.int64(1023)),\n",
              " (np.float64(0.96), np.int64(0), np.int64(0), np.int64(386), np.int64(1023)),\n",
              " (np.float64(0.97), np.int64(0), np.int64(0), np.int64(386), np.int64(1023)),\n",
              " (np.float64(0.98), np.int64(0), np.int64(0), np.int64(386), np.int64(1023)),\n",
              " (np.float64(0.99), np.int64(0), np.int64(0), np.int64(386), np.int64(1023)),\n",
              " (np.float64(1.0), np.int64(0), np.int64(0), np.int64(386), np.int64(1023))]"
            ]
          },
          "metadata": {},
          "execution_count": 29
        }
      ]
    },
    {
      "cell_type": "code",
      "source": [
        "columns = ['threshold', 'tp', 'fp', 'fn', 'tn']\n",
        "df_scores = pd.DataFrame(scores, columns=columns)\n",
        "df_scores\n"
      ],
      "metadata": {
        "colab": {
          "base_uri": "https://localhost:8080/",
          "height": 423
        },
        "id": "xaAzpRju3cyB",
        "outputId": "3797bec8-802f-4e9f-939f-1ffe8d717287"
      },
      "execution_count": null,
      "outputs": [
        {
          "output_type": "execute_result",
          "data": {
            "text/plain": [
              "     threshold   tp    fp   fn    tn\n",
              "0         0.00  386  1023    0     0\n",
              "1         0.01  385   903    1   120\n",
              "2         0.02  384   812    2   211\n",
              "3         0.03  382   753    4   270\n",
              "4         0.04  380   708    6   315\n",
              "..         ...  ...   ...  ...   ...\n",
              "96        0.96    0     0  386  1023\n",
              "97        0.97    0     0  386  1023\n",
              "98        0.98    0     0  386  1023\n",
              "99        0.99    0     0  386  1023\n",
              "100       1.00    0     0  386  1023\n",
              "\n",
              "[101 rows x 5 columns]"
            ],
            "text/html": [
              "\n",
              "  <div id=\"df-673ce986-3d8f-46a4-8e36-bda5450a0814\" class=\"colab-df-container\">\n",
              "    <div>\n",
              "<style scoped>\n",
              "    .dataframe tbody tr th:only-of-type {\n",
              "        vertical-align: middle;\n",
              "    }\n",
              "\n",
              "    .dataframe tbody tr th {\n",
              "        vertical-align: top;\n",
              "    }\n",
              "\n",
              "    .dataframe thead th {\n",
              "        text-align: right;\n",
              "    }\n",
              "</style>\n",
              "<table border=\"1\" class=\"dataframe\">\n",
              "  <thead>\n",
              "    <tr style=\"text-align: right;\">\n",
              "      <th></th>\n",
              "      <th>threshold</th>\n",
              "      <th>tp</th>\n",
              "      <th>fp</th>\n",
              "      <th>fn</th>\n",
              "      <th>tn</th>\n",
              "    </tr>\n",
              "  </thead>\n",
              "  <tbody>\n",
              "    <tr>\n",
              "      <th>0</th>\n",
              "      <td>0.00</td>\n",
              "      <td>386</td>\n",
              "      <td>1023</td>\n",
              "      <td>0</td>\n",
              "      <td>0</td>\n",
              "    </tr>\n",
              "    <tr>\n",
              "      <th>1</th>\n",
              "      <td>0.01</td>\n",
              "      <td>385</td>\n",
              "      <td>903</td>\n",
              "      <td>1</td>\n",
              "      <td>120</td>\n",
              "    </tr>\n",
              "    <tr>\n",
              "      <th>2</th>\n",
              "      <td>0.02</td>\n",
              "      <td>384</td>\n",
              "      <td>812</td>\n",
              "      <td>2</td>\n",
              "      <td>211</td>\n",
              "    </tr>\n",
              "    <tr>\n",
              "      <th>3</th>\n",
              "      <td>0.03</td>\n",
              "      <td>382</td>\n",
              "      <td>753</td>\n",
              "      <td>4</td>\n",
              "      <td>270</td>\n",
              "    </tr>\n",
              "    <tr>\n",
              "      <th>4</th>\n",
              "      <td>0.04</td>\n",
              "      <td>380</td>\n",
              "      <td>708</td>\n",
              "      <td>6</td>\n",
              "      <td>315</td>\n",
              "    </tr>\n",
              "    <tr>\n",
              "      <th>...</th>\n",
              "      <td>...</td>\n",
              "      <td>...</td>\n",
              "      <td>...</td>\n",
              "      <td>...</td>\n",
              "      <td>...</td>\n",
              "    </tr>\n",
              "    <tr>\n",
              "      <th>96</th>\n",
              "      <td>0.96</td>\n",
              "      <td>0</td>\n",
              "      <td>0</td>\n",
              "      <td>386</td>\n",
              "      <td>1023</td>\n",
              "    </tr>\n",
              "    <tr>\n",
              "      <th>97</th>\n",
              "      <td>0.97</td>\n",
              "      <td>0</td>\n",
              "      <td>0</td>\n",
              "      <td>386</td>\n",
              "      <td>1023</td>\n",
              "    </tr>\n",
              "    <tr>\n",
              "      <th>98</th>\n",
              "      <td>0.98</td>\n",
              "      <td>0</td>\n",
              "      <td>0</td>\n",
              "      <td>386</td>\n",
              "      <td>1023</td>\n",
              "    </tr>\n",
              "    <tr>\n",
              "      <th>99</th>\n",
              "      <td>0.99</td>\n",
              "      <td>0</td>\n",
              "      <td>0</td>\n",
              "      <td>386</td>\n",
              "      <td>1023</td>\n",
              "    </tr>\n",
              "    <tr>\n",
              "      <th>100</th>\n",
              "      <td>1.00</td>\n",
              "      <td>0</td>\n",
              "      <td>0</td>\n",
              "      <td>386</td>\n",
              "      <td>1023</td>\n",
              "    </tr>\n",
              "  </tbody>\n",
              "</table>\n",
              "<p>101 rows × 5 columns</p>\n",
              "</div>\n",
              "    <div class=\"colab-df-buttons\">\n",
              "\n",
              "  <div class=\"colab-df-container\">\n",
              "    <button class=\"colab-df-convert\" onclick=\"convertToInteractive('df-673ce986-3d8f-46a4-8e36-bda5450a0814')\"\n",
              "            title=\"Convert this dataframe to an interactive table.\"\n",
              "            style=\"display:none;\">\n",
              "\n",
              "  <svg xmlns=\"http://www.w3.org/2000/svg\" height=\"24px\" viewBox=\"0 -960 960 960\">\n",
              "    <path d=\"M120-120v-720h720v720H120Zm60-500h600v-160H180v160Zm220 220h160v-160H400v160Zm0 220h160v-160H400v160ZM180-400h160v-160H180v160Zm440 0h160v-160H620v160ZM180-180h160v-160H180v160Zm440 0h160v-160H620v160Z\"/>\n",
              "  </svg>\n",
              "    </button>\n",
              "\n",
              "  <style>\n",
              "    .colab-df-container {\n",
              "      display:flex;\n",
              "      gap: 12px;\n",
              "    }\n",
              "\n",
              "    .colab-df-convert {\n",
              "      background-color: #E8F0FE;\n",
              "      border: none;\n",
              "      border-radius: 50%;\n",
              "      cursor: pointer;\n",
              "      display: none;\n",
              "      fill: #1967D2;\n",
              "      height: 32px;\n",
              "      padding: 0 0 0 0;\n",
              "      width: 32px;\n",
              "    }\n",
              "\n",
              "    .colab-df-convert:hover {\n",
              "      background-color: #E2EBFA;\n",
              "      box-shadow: 0px 1px 2px rgba(60, 64, 67, 0.3), 0px 1px 3px 1px rgba(60, 64, 67, 0.15);\n",
              "      fill: #174EA6;\n",
              "    }\n",
              "\n",
              "    .colab-df-buttons div {\n",
              "      margin-bottom: 4px;\n",
              "    }\n",
              "\n",
              "    [theme=dark] .colab-df-convert {\n",
              "      background-color: #3B4455;\n",
              "      fill: #D2E3FC;\n",
              "    }\n",
              "\n",
              "    [theme=dark] .colab-df-convert:hover {\n",
              "      background-color: #434B5C;\n",
              "      box-shadow: 0px 1px 3px 1px rgba(0, 0, 0, 0.15);\n",
              "      filter: drop-shadow(0px 1px 2px rgba(0, 0, 0, 0.3));\n",
              "      fill: #FFFFFF;\n",
              "    }\n",
              "  </style>\n",
              "\n",
              "    <script>\n",
              "      const buttonEl =\n",
              "        document.querySelector('#df-673ce986-3d8f-46a4-8e36-bda5450a0814 button.colab-df-convert');\n",
              "      buttonEl.style.display =\n",
              "        google.colab.kernel.accessAllowed ? 'block' : 'none';\n",
              "\n",
              "      async function convertToInteractive(key) {\n",
              "        const element = document.querySelector('#df-673ce986-3d8f-46a4-8e36-bda5450a0814');\n",
              "        const dataTable =\n",
              "          await google.colab.kernel.invokeFunction('convertToInteractive',\n",
              "                                                    [key], {});\n",
              "        if (!dataTable) return;\n",
              "\n",
              "        const docLinkHtml = 'Like what you see? Visit the ' +\n",
              "          '<a target=\"_blank\" href=https://colab.research.google.com/notebooks/data_table.ipynb>data table notebook</a>'\n",
              "          + ' to learn more about interactive tables.';\n",
              "        element.innerHTML = '';\n",
              "        dataTable['output_type'] = 'display_data';\n",
              "        await google.colab.output.renderOutput(dataTable, element);\n",
              "        const docLink = document.createElement('div');\n",
              "        docLink.innerHTML = docLinkHtml;\n",
              "        element.appendChild(docLink);\n",
              "      }\n",
              "    </script>\n",
              "  </div>\n",
              "\n",
              "\n",
              "    <div id=\"df-01539219-ec01-4150-9fe7-5dfb468dfd4c\">\n",
              "      <button class=\"colab-df-quickchart\" onclick=\"quickchart('df-01539219-ec01-4150-9fe7-5dfb468dfd4c')\"\n",
              "                title=\"Suggest charts\"\n",
              "                style=\"display:none;\">\n",
              "\n",
              "<svg xmlns=\"http://www.w3.org/2000/svg\" height=\"24px\"viewBox=\"0 0 24 24\"\n",
              "     width=\"24px\">\n",
              "    <g>\n",
              "        <path d=\"M19 3H5c-1.1 0-2 .9-2 2v14c0 1.1.9 2 2 2h14c1.1 0 2-.9 2-2V5c0-1.1-.9-2-2-2zM9 17H7v-7h2v7zm4 0h-2V7h2v10zm4 0h-2v-4h2v4z\"/>\n",
              "    </g>\n",
              "</svg>\n",
              "      </button>\n",
              "\n",
              "<style>\n",
              "  .colab-df-quickchart {\n",
              "      --bg-color: #E8F0FE;\n",
              "      --fill-color: #1967D2;\n",
              "      --hover-bg-color: #E2EBFA;\n",
              "      --hover-fill-color: #174EA6;\n",
              "      --disabled-fill-color: #AAA;\n",
              "      --disabled-bg-color: #DDD;\n",
              "  }\n",
              "\n",
              "  [theme=dark] .colab-df-quickchart {\n",
              "      --bg-color: #3B4455;\n",
              "      --fill-color: #D2E3FC;\n",
              "      --hover-bg-color: #434B5C;\n",
              "      --hover-fill-color: #FFFFFF;\n",
              "      --disabled-bg-color: #3B4455;\n",
              "      --disabled-fill-color: #666;\n",
              "  }\n",
              "\n",
              "  .colab-df-quickchart {\n",
              "    background-color: var(--bg-color);\n",
              "    border: none;\n",
              "    border-radius: 50%;\n",
              "    cursor: pointer;\n",
              "    display: none;\n",
              "    fill: var(--fill-color);\n",
              "    height: 32px;\n",
              "    padding: 0;\n",
              "    width: 32px;\n",
              "  }\n",
              "\n",
              "  .colab-df-quickchart:hover {\n",
              "    background-color: var(--hover-bg-color);\n",
              "    box-shadow: 0 1px 2px rgba(60, 64, 67, 0.3), 0 1px 3px 1px rgba(60, 64, 67, 0.15);\n",
              "    fill: var(--button-hover-fill-color);\n",
              "  }\n",
              "\n",
              "  .colab-df-quickchart-complete:disabled,\n",
              "  .colab-df-quickchart-complete:disabled:hover {\n",
              "    background-color: var(--disabled-bg-color);\n",
              "    fill: var(--disabled-fill-color);\n",
              "    box-shadow: none;\n",
              "  }\n",
              "\n",
              "  .colab-df-spinner {\n",
              "    border: 2px solid var(--fill-color);\n",
              "    border-color: transparent;\n",
              "    border-bottom-color: var(--fill-color);\n",
              "    animation:\n",
              "      spin 1s steps(1) infinite;\n",
              "  }\n",
              "\n",
              "  @keyframes spin {\n",
              "    0% {\n",
              "      border-color: transparent;\n",
              "      border-bottom-color: var(--fill-color);\n",
              "      border-left-color: var(--fill-color);\n",
              "    }\n",
              "    20% {\n",
              "      border-color: transparent;\n",
              "      border-left-color: var(--fill-color);\n",
              "      border-top-color: var(--fill-color);\n",
              "    }\n",
              "    30% {\n",
              "      border-color: transparent;\n",
              "      border-left-color: var(--fill-color);\n",
              "      border-top-color: var(--fill-color);\n",
              "      border-right-color: var(--fill-color);\n",
              "    }\n",
              "    40% {\n",
              "      border-color: transparent;\n",
              "      border-right-color: var(--fill-color);\n",
              "      border-top-color: var(--fill-color);\n",
              "    }\n",
              "    60% {\n",
              "      border-color: transparent;\n",
              "      border-right-color: var(--fill-color);\n",
              "    }\n",
              "    80% {\n",
              "      border-color: transparent;\n",
              "      border-right-color: var(--fill-color);\n",
              "      border-bottom-color: var(--fill-color);\n",
              "    }\n",
              "    90% {\n",
              "      border-color: transparent;\n",
              "      border-bottom-color: var(--fill-color);\n",
              "    }\n",
              "  }\n",
              "</style>\n",
              "\n",
              "      <script>\n",
              "        async function quickchart(key) {\n",
              "          const quickchartButtonEl =\n",
              "            document.querySelector('#' + key + ' button');\n",
              "          quickchartButtonEl.disabled = true;  // To prevent multiple clicks.\n",
              "          quickchartButtonEl.classList.add('colab-df-spinner');\n",
              "          try {\n",
              "            const charts = await google.colab.kernel.invokeFunction(\n",
              "                'suggestCharts', [key], {});\n",
              "          } catch (error) {\n",
              "            console.error('Error during call to suggestCharts:', error);\n",
              "          }\n",
              "          quickchartButtonEl.classList.remove('colab-df-spinner');\n",
              "          quickchartButtonEl.classList.add('colab-df-quickchart-complete');\n",
              "        }\n",
              "        (() => {\n",
              "          let quickchartButtonEl =\n",
              "            document.querySelector('#df-01539219-ec01-4150-9fe7-5dfb468dfd4c button');\n",
              "          quickchartButtonEl.style.display =\n",
              "            google.colab.kernel.accessAllowed ? 'block' : 'none';\n",
              "        })();\n",
              "      </script>\n",
              "    </div>\n",
              "\n",
              "  <div id=\"id_08c2959a-3249-495d-aa7f-52c8bb307736\">\n",
              "    <style>\n",
              "      .colab-df-generate {\n",
              "        background-color: #E8F0FE;\n",
              "        border: none;\n",
              "        border-radius: 50%;\n",
              "        cursor: pointer;\n",
              "        display: none;\n",
              "        fill: #1967D2;\n",
              "        height: 32px;\n",
              "        padding: 0 0 0 0;\n",
              "        width: 32px;\n",
              "      }\n",
              "\n",
              "      .colab-df-generate:hover {\n",
              "        background-color: #E2EBFA;\n",
              "        box-shadow: 0px 1px 2px rgba(60, 64, 67, 0.3), 0px 1px 3px 1px rgba(60, 64, 67, 0.15);\n",
              "        fill: #174EA6;\n",
              "      }\n",
              "\n",
              "      [theme=dark] .colab-df-generate {\n",
              "        background-color: #3B4455;\n",
              "        fill: #D2E3FC;\n",
              "      }\n",
              "\n",
              "      [theme=dark] .colab-df-generate:hover {\n",
              "        background-color: #434B5C;\n",
              "        box-shadow: 0px 1px 3px 1px rgba(0, 0, 0, 0.15);\n",
              "        filter: drop-shadow(0px 1px 2px rgba(0, 0, 0, 0.3));\n",
              "        fill: #FFFFFF;\n",
              "      }\n",
              "    </style>\n",
              "    <button class=\"colab-df-generate\" onclick=\"generateWithVariable('df_scores')\"\n",
              "            title=\"Generate code using this dataframe.\"\n",
              "            style=\"display:none;\">\n",
              "\n",
              "  <svg xmlns=\"http://www.w3.org/2000/svg\" height=\"24px\"viewBox=\"0 0 24 24\"\n",
              "       width=\"24px\">\n",
              "    <path d=\"M7,19H8.4L18.45,9,17,7.55,7,17.6ZM5,21V16.75L18.45,3.32a2,2,0,0,1,2.83,0l1.4,1.43a1.91,1.91,0,0,1,.58,1.4,1.91,1.91,0,0,1-.58,1.4L9.25,21ZM18.45,9,17,7.55Zm-12,3A5.31,5.31,0,0,0,4.9,8.1,5.31,5.31,0,0,0,1,6.5,5.31,5.31,0,0,0,4.9,4.9,5.31,5.31,0,0,0,6.5,1,5.31,5.31,0,0,0,8.1,4.9,5.31,5.31,0,0,0,12,6.5,5.46,5.46,0,0,0,6.5,12Z\"/>\n",
              "  </svg>\n",
              "    </button>\n",
              "    <script>\n",
              "      (() => {\n",
              "      const buttonEl =\n",
              "        document.querySelector('#id_08c2959a-3249-495d-aa7f-52c8bb307736 button.colab-df-generate');\n",
              "      buttonEl.style.display =\n",
              "        google.colab.kernel.accessAllowed ? 'block' : 'none';\n",
              "\n",
              "      buttonEl.onclick = () => {\n",
              "        google.colab.notebook.generateWithVariable('df_scores');\n",
              "      }\n",
              "      })();\n",
              "    </script>\n",
              "  </div>\n",
              "\n",
              "    </div>\n",
              "  </div>\n"
            ],
            "application/vnd.google.colaboratory.intrinsic+json": {
              "type": "dataframe",
              "variable_name": "df_scores",
              "summary": "{\n  \"name\": \"df_scores\",\n  \"rows\": 101,\n  \"fields\": [\n    {\n      \"column\": \"threshold\",\n      \"properties\": {\n        \"dtype\": \"number\",\n        \"std\": 0.29300170647967216,\n        \"min\": 0.0,\n        \"max\": 1.0,\n        \"num_unique_values\": 101,\n        \"samples\": [\n          0.84,\n          0.55,\n          0.66\n        ],\n        \"semantic_type\": \"\",\n        \"description\": \"\"\n      }\n    },\n    {\n      \"column\": \"tp\",\n      \"properties\": {\n        \"dtype\": \"number\",\n        \"std\": 138,\n        \"min\": 0,\n        \"max\": 386,\n        \"num_unique_values\": 82,\n        \"samples\": [\n          291,\n          386,\n          327\n        ],\n        \"semantic_type\": \"\",\n        \"description\": \"\"\n      }\n    },\n    {\n      \"column\": \"fp\",\n      \"properties\": {\n        \"dtype\": \"number\",\n        \"std\": 234,\n        \"min\": 0,\n        \"max\": 1023,\n        \"num_unique_values\": 79,\n        \"samples\": [\n          244,\n          1023,\n          334\n        ],\n        \"semantic_type\": \"\",\n        \"description\": \"\"\n      }\n    },\n    {\n      \"column\": \"fn\",\n      \"properties\": {\n        \"dtype\": \"number\",\n        \"std\": 138,\n        \"min\": 0,\n        \"max\": 386,\n        \"num_unique_values\": 82,\n        \"samples\": [\n          95,\n          0,\n          59\n        ],\n        \"semantic_type\": \"\",\n        \"description\": \"\"\n      }\n    },\n    {\n      \"column\": \"tn\",\n      \"properties\": {\n        \"dtype\": \"number\",\n        \"std\": 234,\n        \"min\": 0,\n        \"max\": 1023,\n        \"num_unique_values\": 79,\n        \"samples\": [\n          779,\n          0,\n          689\n        ],\n        \"semantic_type\": \"\",\n        \"description\": \"\"\n      }\n    }\n  ]\n}"
            }
          },
          "metadata": {},
          "execution_count": 30
        }
      ]
    },
    {
      "cell_type": "code",
      "source": [
        "# true_positive_rate = tp/(tp + fn) # all the positive ratio\n",
        "df_scores['tpr'] = df_scores.tp / (df_scores.tp + df_scores.fn)\n",
        "\n",
        "df_scores['fpr'] = df_scores.fp / (df_scores.fp + df_scores.tn)\n",
        "\n",
        "df_scores[::10]"
      ],
      "metadata": {
        "colab": {
          "base_uri": "https://localhost:8080/",
          "height": 394
        },
        "id": "FlIjsB_a4Udg",
        "outputId": "6ceb6c0b-626b-4a93-a83a-4185b6f25861"
      },
      "execution_count": null,
      "outputs": [
        {
          "output_type": "execute_result",
          "data": {
            "text/plain": [
              "     threshold   tp    fp   fn    tn       tpr       fpr\n",
              "0          0.0  386  1023    0     0  1.000000  1.000000\n",
              "10         0.1  367   547   19   476  0.950777  0.534702\n",
              "20         0.2  334   361   52   662  0.865285  0.352884\n",
              "30         0.3  291   244   95   779  0.753886  0.238514\n",
              "40         0.4  253   177  133   846  0.655440  0.173021\n",
              "50         0.5  214   108  172   915  0.554404  0.105572\n",
              "60         0.6  153    53  233   970  0.396373  0.051808\n",
              "70         0.7   69    14  317  1009  0.178756  0.013685\n",
              "80         0.8    5     0  381  1023  0.012953  0.000000\n",
              "90         0.9    0     0  386  1023  0.000000  0.000000\n",
              "100        1.0    0     0  386  1023  0.000000  0.000000"
            ],
            "text/html": [
              "\n",
              "  <div id=\"df-32fb5225-f628-4a83-ba7f-8103755404cd\" class=\"colab-df-container\">\n",
              "    <div>\n",
              "<style scoped>\n",
              "    .dataframe tbody tr th:only-of-type {\n",
              "        vertical-align: middle;\n",
              "    }\n",
              "\n",
              "    .dataframe tbody tr th {\n",
              "        vertical-align: top;\n",
              "    }\n",
              "\n",
              "    .dataframe thead th {\n",
              "        text-align: right;\n",
              "    }\n",
              "</style>\n",
              "<table border=\"1\" class=\"dataframe\">\n",
              "  <thead>\n",
              "    <tr style=\"text-align: right;\">\n",
              "      <th></th>\n",
              "      <th>threshold</th>\n",
              "      <th>tp</th>\n",
              "      <th>fp</th>\n",
              "      <th>fn</th>\n",
              "      <th>tn</th>\n",
              "      <th>tpr</th>\n",
              "      <th>fpr</th>\n",
              "    </tr>\n",
              "  </thead>\n",
              "  <tbody>\n",
              "    <tr>\n",
              "      <th>0</th>\n",
              "      <td>0.0</td>\n",
              "      <td>386</td>\n",
              "      <td>1023</td>\n",
              "      <td>0</td>\n",
              "      <td>0</td>\n",
              "      <td>1.000000</td>\n",
              "      <td>1.000000</td>\n",
              "    </tr>\n",
              "    <tr>\n",
              "      <th>10</th>\n",
              "      <td>0.1</td>\n",
              "      <td>367</td>\n",
              "      <td>547</td>\n",
              "      <td>19</td>\n",
              "      <td>476</td>\n",
              "      <td>0.950777</td>\n",
              "      <td>0.534702</td>\n",
              "    </tr>\n",
              "    <tr>\n",
              "      <th>20</th>\n",
              "      <td>0.2</td>\n",
              "      <td>334</td>\n",
              "      <td>361</td>\n",
              "      <td>52</td>\n",
              "      <td>662</td>\n",
              "      <td>0.865285</td>\n",
              "      <td>0.352884</td>\n",
              "    </tr>\n",
              "    <tr>\n",
              "      <th>30</th>\n",
              "      <td>0.3</td>\n",
              "      <td>291</td>\n",
              "      <td>244</td>\n",
              "      <td>95</td>\n",
              "      <td>779</td>\n",
              "      <td>0.753886</td>\n",
              "      <td>0.238514</td>\n",
              "    </tr>\n",
              "    <tr>\n",
              "      <th>40</th>\n",
              "      <td>0.4</td>\n",
              "      <td>253</td>\n",
              "      <td>177</td>\n",
              "      <td>133</td>\n",
              "      <td>846</td>\n",
              "      <td>0.655440</td>\n",
              "      <td>0.173021</td>\n",
              "    </tr>\n",
              "    <tr>\n",
              "      <th>50</th>\n",
              "      <td>0.5</td>\n",
              "      <td>214</td>\n",
              "      <td>108</td>\n",
              "      <td>172</td>\n",
              "      <td>915</td>\n",
              "      <td>0.554404</td>\n",
              "      <td>0.105572</td>\n",
              "    </tr>\n",
              "    <tr>\n",
              "      <th>60</th>\n",
              "      <td>0.6</td>\n",
              "      <td>153</td>\n",
              "      <td>53</td>\n",
              "      <td>233</td>\n",
              "      <td>970</td>\n",
              "      <td>0.396373</td>\n",
              "      <td>0.051808</td>\n",
              "    </tr>\n",
              "    <tr>\n",
              "      <th>70</th>\n",
              "      <td>0.7</td>\n",
              "      <td>69</td>\n",
              "      <td>14</td>\n",
              "      <td>317</td>\n",
              "      <td>1009</td>\n",
              "      <td>0.178756</td>\n",
              "      <td>0.013685</td>\n",
              "    </tr>\n",
              "    <tr>\n",
              "      <th>80</th>\n",
              "      <td>0.8</td>\n",
              "      <td>5</td>\n",
              "      <td>0</td>\n",
              "      <td>381</td>\n",
              "      <td>1023</td>\n",
              "      <td>0.012953</td>\n",
              "      <td>0.000000</td>\n",
              "    </tr>\n",
              "    <tr>\n",
              "      <th>90</th>\n",
              "      <td>0.9</td>\n",
              "      <td>0</td>\n",
              "      <td>0</td>\n",
              "      <td>386</td>\n",
              "      <td>1023</td>\n",
              "      <td>0.000000</td>\n",
              "      <td>0.000000</td>\n",
              "    </tr>\n",
              "    <tr>\n",
              "      <th>100</th>\n",
              "      <td>1.0</td>\n",
              "      <td>0</td>\n",
              "      <td>0</td>\n",
              "      <td>386</td>\n",
              "      <td>1023</td>\n",
              "      <td>0.000000</td>\n",
              "      <td>0.000000</td>\n",
              "    </tr>\n",
              "  </tbody>\n",
              "</table>\n",
              "</div>\n",
              "    <div class=\"colab-df-buttons\">\n",
              "\n",
              "  <div class=\"colab-df-container\">\n",
              "    <button class=\"colab-df-convert\" onclick=\"convertToInteractive('df-32fb5225-f628-4a83-ba7f-8103755404cd')\"\n",
              "            title=\"Convert this dataframe to an interactive table.\"\n",
              "            style=\"display:none;\">\n",
              "\n",
              "  <svg xmlns=\"http://www.w3.org/2000/svg\" height=\"24px\" viewBox=\"0 -960 960 960\">\n",
              "    <path d=\"M120-120v-720h720v720H120Zm60-500h600v-160H180v160Zm220 220h160v-160H400v160Zm0 220h160v-160H400v160ZM180-400h160v-160H180v160Zm440 0h160v-160H620v160ZM180-180h160v-160H180v160Zm440 0h160v-160H620v160Z\"/>\n",
              "  </svg>\n",
              "    </button>\n",
              "\n",
              "  <style>\n",
              "    .colab-df-container {\n",
              "      display:flex;\n",
              "      gap: 12px;\n",
              "    }\n",
              "\n",
              "    .colab-df-convert {\n",
              "      background-color: #E8F0FE;\n",
              "      border: none;\n",
              "      border-radius: 50%;\n",
              "      cursor: pointer;\n",
              "      display: none;\n",
              "      fill: #1967D2;\n",
              "      height: 32px;\n",
              "      padding: 0 0 0 0;\n",
              "      width: 32px;\n",
              "    }\n",
              "\n",
              "    .colab-df-convert:hover {\n",
              "      background-color: #E2EBFA;\n",
              "      box-shadow: 0px 1px 2px rgba(60, 64, 67, 0.3), 0px 1px 3px 1px rgba(60, 64, 67, 0.15);\n",
              "      fill: #174EA6;\n",
              "    }\n",
              "\n",
              "    .colab-df-buttons div {\n",
              "      margin-bottom: 4px;\n",
              "    }\n",
              "\n",
              "    [theme=dark] .colab-df-convert {\n",
              "      background-color: #3B4455;\n",
              "      fill: #D2E3FC;\n",
              "    }\n",
              "\n",
              "    [theme=dark] .colab-df-convert:hover {\n",
              "      background-color: #434B5C;\n",
              "      box-shadow: 0px 1px 3px 1px rgba(0, 0, 0, 0.15);\n",
              "      filter: drop-shadow(0px 1px 2px rgba(0, 0, 0, 0.3));\n",
              "      fill: #FFFFFF;\n",
              "    }\n",
              "  </style>\n",
              "\n",
              "    <script>\n",
              "      const buttonEl =\n",
              "        document.querySelector('#df-32fb5225-f628-4a83-ba7f-8103755404cd button.colab-df-convert');\n",
              "      buttonEl.style.display =\n",
              "        google.colab.kernel.accessAllowed ? 'block' : 'none';\n",
              "\n",
              "      async function convertToInteractive(key) {\n",
              "        const element = document.querySelector('#df-32fb5225-f628-4a83-ba7f-8103755404cd');\n",
              "        const dataTable =\n",
              "          await google.colab.kernel.invokeFunction('convertToInteractive',\n",
              "                                                    [key], {});\n",
              "        if (!dataTable) return;\n",
              "\n",
              "        const docLinkHtml = 'Like what you see? Visit the ' +\n",
              "          '<a target=\"_blank\" href=https://colab.research.google.com/notebooks/data_table.ipynb>data table notebook</a>'\n",
              "          + ' to learn more about interactive tables.';\n",
              "        element.innerHTML = '';\n",
              "        dataTable['output_type'] = 'display_data';\n",
              "        await google.colab.output.renderOutput(dataTable, element);\n",
              "        const docLink = document.createElement('div');\n",
              "        docLink.innerHTML = docLinkHtml;\n",
              "        element.appendChild(docLink);\n",
              "      }\n",
              "    </script>\n",
              "  </div>\n",
              "\n",
              "\n",
              "    <div id=\"df-88f887b3-d248-4ce5-ac4a-50fa1ca7b382\">\n",
              "      <button class=\"colab-df-quickchart\" onclick=\"quickchart('df-88f887b3-d248-4ce5-ac4a-50fa1ca7b382')\"\n",
              "                title=\"Suggest charts\"\n",
              "                style=\"display:none;\">\n",
              "\n",
              "<svg xmlns=\"http://www.w3.org/2000/svg\" height=\"24px\"viewBox=\"0 0 24 24\"\n",
              "     width=\"24px\">\n",
              "    <g>\n",
              "        <path d=\"M19 3H5c-1.1 0-2 .9-2 2v14c0 1.1.9 2 2 2h14c1.1 0 2-.9 2-2V5c0-1.1-.9-2-2-2zM9 17H7v-7h2v7zm4 0h-2V7h2v10zm4 0h-2v-4h2v4z\"/>\n",
              "    </g>\n",
              "</svg>\n",
              "      </button>\n",
              "\n",
              "<style>\n",
              "  .colab-df-quickchart {\n",
              "      --bg-color: #E8F0FE;\n",
              "      --fill-color: #1967D2;\n",
              "      --hover-bg-color: #E2EBFA;\n",
              "      --hover-fill-color: #174EA6;\n",
              "      --disabled-fill-color: #AAA;\n",
              "      --disabled-bg-color: #DDD;\n",
              "  }\n",
              "\n",
              "  [theme=dark] .colab-df-quickchart {\n",
              "      --bg-color: #3B4455;\n",
              "      --fill-color: #D2E3FC;\n",
              "      --hover-bg-color: #434B5C;\n",
              "      --hover-fill-color: #FFFFFF;\n",
              "      --disabled-bg-color: #3B4455;\n",
              "      --disabled-fill-color: #666;\n",
              "  }\n",
              "\n",
              "  .colab-df-quickchart {\n",
              "    background-color: var(--bg-color);\n",
              "    border: none;\n",
              "    border-radius: 50%;\n",
              "    cursor: pointer;\n",
              "    display: none;\n",
              "    fill: var(--fill-color);\n",
              "    height: 32px;\n",
              "    padding: 0;\n",
              "    width: 32px;\n",
              "  }\n",
              "\n",
              "  .colab-df-quickchart:hover {\n",
              "    background-color: var(--hover-bg-color);\n",
              "    box-shadow: 0 1px 2px rgba(60, 64, 67, 0.3), 0 1px 3px 1px rgba(60, 64, 67, 0.15);\n",
              "    fill: var(--button-hover-fill-color);\n",
              "  }\n",
              "\n",
              "  .colab-df-quickchart-complete:disabled,\n",
              "  .colab-df-quickchart-complete:disabled:hover {\n",
              "    background-color: var(--disabled-bg-color);\n",
              "    fill: var(--disabled-fill-color);\n",
              "    box-shadow: none;\n",
              "  }\n",
              "\n",
              "  .colab-df-spinner {\n",
              "    border: 2px solid var(--fill-color);\n",
              "    border-color: transparent;\n",
              "    border-bottom-color: var(--fill-color);\n",
              "    animation:\n",
              "      spin 1s steps(1) infinite;\n",
              "  }\n",
              "\n",
              "  @keyframes spin {\n",
              "    0% {\n",
              "      border-color: transparent;\n",
              "      border-bottom-color: var(--fill-color);\n",
              "      border-left-color: var(--fill-color);\n",
              "    }\n",
              "    20% {\n",
              "      border-color: transparent;\n",
              "      border-left-color: var(--fill-color);\n",
              "      border-top-color: var(--fill-color);\n",
              "    }\n",
              "    30% {\n",
              "      border-color: transparent;\n",
              "      border-left-color: var(--fill-color);\n",
              "      border-top-color: var(--fill-color);\n",
              "      border-right-color: var(--fill-color);\n",
              "    }\n",
              "    40% {\n",
              "      border-color: transparent;\n",
              "      border-right-color: var(--fill-color);\n",
              "      border-top-color: var(--fill-color);\n",
              "    }\n",
              "    60% {\n",
              "      border-color: transparent;\n",
              "      border-right-color: var(--fill-color);\n",
              "    }\n",
              "    80% {\n",
              "      border-color: transparent;\n",
              "      border-right-color: var(--fill-color);\n",
              "      border-bottom-color: var(--fill-color);\n",
              "    }\n",
              "    90% {\n",
              "      border-color: transparent;\n",
              "      border-bottom-color: var(--fill-color);\n",
              "    }\n",
              "  }\n",
              "</style>\n",
              "\n",
              "      <script>\n",
              "        async function quickchart(key) {\n",
              "          const quickchartButtonEl =\n",
              "            document.querySelector('#' + key + ' button');\n",
              "          quickchartButtonEl.disabled = true;  // To prevent multiple clicks.\n",
              "          quickchartButtonEl.classList.add('colab-df-spinner');\n",
              "          try {\n",
              "            const charts = await google.colab.kernel.invokeFunction(\n",
              "                'suggestCharts', [key], {});\n",
              "          } catch (error) {\n",
              "            console.error('Error during call to suggestCharts:', error);\n",
              "          }\n",
              "          quickchartButtonEl.classList.remove('colab-df-spinner');\n",
              "          quickchartButtonEl.classList.add('colab-df-quickchart-complete');\n",
              "        }\n",
              "        (() => {\n",
              "          let quickchartButtonEl =\n",
              "            document.querySelector('#df-88f887b3-d248-4ce5-ac4a-50fa1ca7b382 button');\n",
              "          quickchartButtonEl.style.display =\n",
              "            google.colab.kernel.accessAllowed ? 'block' : 'none';\n",
              "        })();\n",
              "      </script>\n",
              "    </div>\n",
              "\n",
              "    </div>\n",
              "  </div>\n"
            ],
            "application/vnd.google.colaboratory.intrinsic+json": {
              "type": "dataframe",
              "summary": "{\n  \"name\": \"df_scores[::10]\",\n  \"rows\": 11,\n  \"fields\": [\n    {\n      \"column\": \"threshold\",\n      \"properties\": {\n        \"dtype\": \"number\",\n        \"std\": 0.33166247903554,\n        \"min\": 0.0,\n        \"max\": 1.0,\n        \"num_unique_values\": 11,\n        \"samples\": [\n          0.5,\n          0.0,\n          0.9\n        ],\n        \"semantic_type\": \"\",\n        \"description\": \"\"\n      }\n    },\n    {\n      \"column\": \"tp\",\n      \"properties\": {\n        \"dtype\": \"number\",\n        \"std\": 150,\n        \"min\": 0,\n        \"max\": 386,\n        \"num_unique_values\": 10,\n        \"samples\": [\n          5,\n          367,\n          214\n        ],\n        \"semantic_type\": \"\",\n        \"description\": \"\"\n      }\n    },\n    {\n      \"column\": \"fp\",\n      \"properties\": {\n        \"dtype\": \"number\",\n        \"std\": 316,\n        \"min\": 0,\n        \"max\": 1023,\n        \"num_unique_values\": 9,\n        \"samples\": [\n          14,\n          547,\n          108\n        ],\n        \"semantic_type\": \"\",\n        \"description\": \"\"\n      }\n    },\n    {\n      \"column\": \"fn\",\n      \"properties\": {\n        \"dtype\": \"number\",\n        \"std\": 150,\n        \"min\": 0,\n        \"max\": 386,\n        \"num_unique_values\": 10,\n        \"samples\": [\n          381,\n          19,\n          172\n        ],\n        \"semantic_type\": \"\",\n        \"description\": \"\"\n      }\n    },\n    {\n      \"column\": \"tn\",\n      \"properties\": {\n        \"dtype\": \"number\",\n        \"std\": 316,\n        \"min\": 0,\n        \"max\": 1023,\n        \"num_unique_values\": 9,\n        \"samples\": [\n          1009,\n          476,\n          915\n        ],\n        \"semantic_type\": \"\",\n        \"description\": \"\"\n      }\n    },\n    {\n      \"column\": \"tpr\",\n      \"properties\": {\n        \"dtype\": \"number\",\n        \"std\": 0.39086778052425786,\n        \"min\": 0.0,\n        \"max\": 1.0,\n        \"num_unique_values\": 10,\n        \"samples\": [\n          0.012953367875647668,\n          0.9507772020725389,\n          0.5544041450777202\n        ],\n        \"semantic_type\": \"\",\n        \"description\": \"\"\n      }\n    },\n    {\n      \"column\": \"fpr\",\n      \"properties\": {\n        \"dtype\": \"number\",\n        \"std\": 0.3092837218287874,\n        \"min\": 0.0,\n        \"max\": 1.0,\n        \"num_unique_values\": 9,\n        \"samples\": [\n          0.013685239491691105,\n          0.5347018572825024,\n          0.10557184750733138\n        ],\n        \"semantic_type\": \"\",\n        \"description\": \"\"\n      }\n    }\n  ]\n}"
            }
          },
          "metadata": {},
          "execution_count": 31
        }
      ]
    },
    {
      "cell_type": "code",
      "source": [
        "plt.plot(thresholds, df_scores.tpr, label='TPR')\n",
        "plt.plot(thresholds, df_scores.fpr, label='FPR')\n",
        "plt.legend()"
      ],
      "metadata": {
        "colab": {
          "base_uri": "https://localhost:8080/",
          "height": 447
        },
        "id": "hHbYwnSr6Lsj",
        "outputId": "f33a04fc-f6d0-418d-a7f8-477996551439"
      },
      "execution_count": null,
      "outputs": [
        {
          "output_type": "execute_result",
          "data": {
            "text/plain": [
              "<matplotlib.legend.Legend at 0x7db7d4b195e0>"
            ]
          },
          "metadata": {},
          "execution_count": 32
        },
        {
          "output_type": "display_data",
          "data": {
            "text/plain": [
              "<Figure size 640x480 with 1 Axes>"
            ],
            "image/png": "[encoded data removed]"
          },
          "metadata": {}
        }
      ]
    },
    {
      "cell_type": "markdown",
      "source": [
        "Random model"
      ],
      "metadata": {
        "id": "fbn9wokVqao1"
      }
    },
    {
      "cell_type": "code",
      "source": [
        "np.random.seed(1)\n",
        "y_rand = np.random.uniform(0, 1, size=len(y_val))\n",
        "y_rand"
      ],
      "metadata": {
        "id": "6v-ma0zz7ieG",
        "colab": {
          "base_uri": "https://localhost:8080/"
        },
        "outputId": "084664f2-7721-411f-d80d-a2114c302702"
      },
      "execution_count": null,
      "outputs": [
        {
          "output_type": "execute_result",
          "data": {
            "text/plain": [
              "array([4.17022005e-01, 7.20324493e-01, 1.14374817e-04, ...,\n",
              "       7.73916250e-01, 3.34276405e-01, 8.89982208e-02])"
            ]
          },
          "metadata": {},
          "execution_count": 33
        }
      ]
    },
    {
      "cell_type": "code",
      "source": [
        "((y_rand >= 0.5) == y_val).mean()"
      ],
      "metadata": {
        "colab": {
          "base_uri": "https://localhost:8080/"
        },
        "id": "I5z9Mff7qqRR",
        "outputId": "b8c48a35-e487-44be-b1b6-49d693e94e8f"
      },
      "execution_count": null,
      "outputs": [
        {
          "output_type": "execute_result",
          "data": {
            "text/plain": [
              "np.float64(0.5017743080198722)"
            ]
          },
          "metadata": {},
          "execution_count": 34
        }
      ]
    },
    {
      "cell_type": "code",
      "source": [
        "def trp_fpr_dataframe (y_val, y_pred):\n",
        "  scores = []\n",
        "  thresholds =  np.linspace(0, 1, 101)\n",
        "\n",
        "  for t in thresholds:\n",
        "    actual_positive = (y_val == 1)\n",
        "    actual_negative = (y_val == 0)\n",
        "\n",
        "    predic_positive = (y_pred >= t)\n",
        "    predict_negative = (y_pred < t)\n",
        "\n",
        "    tp = (predic_positive & actual_positive).sum()\n",
        "    tn = (predict_negative & actual_negative).sum()\n",
        "\n",
        "    fp = (predic_positive & actual_negative).sum()\n",
        "    fn = (predict_negative & actual_positive).sum()\n",
        "    scores.append((t, tp, fp, fn, tn))\n",
        "\n",
        "    columns = ['threshold', 'tp', 'fp', 'fn', 'tn']\n",
        "    df_scores = pd.DataFrame(scores, columns=columns)\n",
        "\n",
        "    df_scores['tpr'] = df_scores.tp / (df_scores.tp + df_scores.fn)\n",
        "    df_scores['fpr'] = df_scores.fp / (df_scores.fp + df_scores.tn)\n",
        "\n",
        "  return df_scores\n"
      ],
      "metadata": {
        "id": "Em319H68rHUz"
      },
      "execution_count": null,
      "outputs": []
    },
    {
      "cell_type": "code",
      "source": [
        "df_rand = trp_fpr_dataframe(y_val, y_rand)\n",
        "df_rand[::10]\n",
        "\n",
        "plt.plot(thresholds, df_rand.tpr, label='TPR')\n",
        "plt.plot(thresholds, df_rand.fpr, label='FPR')\n",
        "plt.legend()"
      ],
      "metadata": {
        "colab": {
          "base_uri": "https://localhost:8080/",
          "height": 447
        },
        "id": "L-EjM7Insyfw",
        "outputId": "c07fcf18-142c-4263-f367-7ea54a2081f3"
      },
      "execution_count": null,
      "outputs": [
        {
          "output_type": "execute_result",
          "data": {
            "text/plain": [
              "<matplotlib.legend.Legend at 0x7db7d3799520>"
            ]
          },
          "metadata": {},
          "execution_count": 36
        },
        {
          "output_type": "display_data",
          "data": {
            "text/plain": [
              "<Figure size 640x480 with 1 Axes>"
            ],
            "image/png": "[encoded data removed]"
          },
          "metadata": {}
        }
      ]
    },
    {
      "cell_type": "markdown",
      "source": [
        "Ideal model"
      ],
      "metadata": {
        "id": "Dl4W1lwivpMc"
      }
    },
    {
      "cell_type": "code",
      "source": [
        "num_neg = (y_val == 0).sum()\n",
        "num_pos = (y_val == 1).sum()\n",
        "\n",
        "num_neg, num_pos"
      ],
      "metadata": {
        "colab": {
          "base_uri": "https://localhost:8080/"
        },
        "id": "NH2bLm7VvrB8",
        "outputId": "bf2ed2db-0e66-4465-c9b1-9d8d270d2d7c"
      },
      "execution_count": null,
      "outputs": [
        {
          "output_type": "execute_result",
          "data": {
            "text/plain": [
              "(np.int64(1023), np.int64(386))"
            ]
          },
          "metadata": {},
          "execution_count": 37
        }
      ]
    },
    {
      "cell_type": "code",
      "source": [
        "y_ideal = np.repeat([0,1], [num_neg, num_pos])\n",
        "y_ideal"
      ],
      "metadata": {
        "colab": {
          "base_uri": "https://localhost:8080/"
        },
        "id": "6YUhehTnwq4r",
        "outputId": "b66394fa-05d9-4a52-cfa2-e459695d15a0"
      },
      "execution_count": null,
      "outputs": [
        {
          "output_type": "execute_result",
          "data": {
            "text/plain": [
              "array([0, 0, 0, ..., 1, 1, 1])"
            ]
          },
          "metadata": {},
          "execution_count": 38
        }
      ]
    },
    {
      "cell_type": "code",
      "source": [
        "y_ideal_pred = np.linspace(0, 1, len(y_val))\n",
        "\n",
        "1 - y_val.mean()"
      ],
      "metadata": {
        "colab": {
          "base_uri": "https://localhost:8080/"
        },
        "id": "nezbIugCw2Aq",
        "outputId": "27eb7bf2-3b53-428c-cfd6-5daa427bd1ea"
      },
      "execution_count": null,
      "outputs": [
        {
          "output_type": "execute_result",
          "data": {
            "text/plain": [
              "np.float64(0.7260468417317246)"
            ]
          },
          "metadata": {},
          "execution_count": 39
        }
      ]
    },
    {
      "cell_type": "code",
      "source": [
        "((y_ideal_pred >= 0.726) == y_ideal).mean() # Why y_ideal_prd == y_ideal ?\n",
        "  # dont get it !!! TO CHECK"
      ],
      "metadata": {
        "colab": {
          "base_uri": "https://localhost:8080/"
        },
        "id": "rKdppIqRxVR6",
        "outputId": "d254a389-d9b2-44ef-8e4c-a5fd9854b8e7"
      },
      "execution_count": null,
      "outputs": [
        {
          "output_type": "execute_result",
          "data": {
            "text/plain": [
              "np.float64(1.0)"
            ]
          },
          "metadata": {},
          "execution_count": 40
        }
      ]
    },
    {
      "cell_type": "code",
      "source": [
        "y_ideal_pred"
      ],
      "metadata": {
        "colab": {
          "base_uri": "https://localhost:8080/"
        },
        "id": "udf0KGYoyzAm",
        "outputId": "bee492b2-6cc6-4b4b-e902-ce9b5ac1c6df"
      },
      "execution_count": null,
      "outputs": [
        {
          "output_type": "execute_result",
          "data": {
            "text/plain": [
              "array([0.00000000e+00, 7.10227273e-04, 1.42045455e-03, ...,\n",
              "       9.98579545e-01, 9.99289773e-01, 1.00000000e+00])"
            ]
          },
          "metadata": {},
          "execution_count": 41
        }
      ]
    },
    {
      "cell_type": "code",
      "source": [
        "df_ideal = trp_fpr_dataframe(y_ideal,y_ideal_pred)\n",
        "df_ideal[::10]\n",
        "\n",
        "plt.plot(thresholds, df_ideal.tpr, label='TPR')\n",
        "plt.plot(thresholds, df_ideal.fpr, label='FPR')\n",
        "plt.legend()"
      ],
      "metadata": {
        "colab": {
          "base_uri": "https://localhost:8080/",
          "height": 447
        },
        "id": "FynUPJy6zOF5",
        "outputId": "fb584bc9-6552-4549-98d3-dea58952dedd"
      },
      "execution_count": null,
      "outputs": [
        {
          "output_type": "execute_result",
          "data": {
            "text/plain": [
              "<matplotlib.legend.Legend at 0x7db7d361a750>"
            ]
          },
          "metadata": {},
          "execution_count": 42
        },
        {
          "output_type": "display_data",
          "data": {
            "text/plain": [
              "<Figure size 640x480 with 1 Axes>"
            ],
            "image/png": "[encoded data removed]"
          },
          "metadata": {}
        }
      ]
    },
    {
      "cell_type": "code",
      "source": [
        "plt.plot(thresholds, df_scores.tpr, label='TPR')\n",
        "plt.plot(thresholds, df_scores.fpr, label='FPR')\n",
        "\n",
        "# plt.plot(thresholds, df_rand.tpr, label='TPR')\n",
        "# plt.plot(thresholds, df_rand.fpr, label='FPR')\n",
        "\n",
        "plt.plot(thresholds, df_ideal.tpr, label='TPR')\n",
        "plt.plot(thresholds, df_ideal.fpr, label='FPR')\n",
        "\n",
        "plt.legend()"
      ],
      "metadata": {
        "colab": {
          "base_uri": "https://localhost:8080/",
          "height": 447
        },
        "id": "Ew__5PnGz66G",
        "outputId": "5b6574b1-1ec7-4c22-e7ee-3be5db2770cc"
      },
      "execution_count": null,
      "outputs": [
        {
          "output_type": "execute_result",
          "data": {
            "text/plain": [
              "<matplotlib.legend.Legend at 0x7db7d3670b00>"
            ]
          },
          "metadata": {},
          "execution_count": 43
        },
        {
          "output_type": "display_data",
          "data": {
            "text/plain": [
              "<Figure size 640x480 with 1 Axes>"
            ],
            "image/png": "[encoded data removed]"
          },
          "metadata": {}
        }
      ]
    },
    {
      "cell_type": "code",
      "source": [
        "plt.figure(figsize=(5, 5))\n",
        "plt.plot(df_scores.fpr, df_scores.tpr, label='model')\n",
        "plt.plot(df_rand.fpr, df_rand.tpr, label='rand')\n",
        "plt.plot([0, 1], [0, 1], label='rand')\n",
        "plt.plot(df_ideal.fpr, df_ideal.tpr, label='ideal')\n",
        "plt.xlabel('FPR')\n",
        "plt.ylabel('TPR')\n",
        "plt.legend()"
      ],
      "metadata": {
        "colab": {
          "base_uri": "https://localhost:8080/",
          "height": 482
        },
        "id": "gl7Ha69-0itC",
        "outputId": "e572cb5c-0bce-462c-ae0a-421ae47a8539"
      },
      "execution_count": null,
      "outputs": [
        {
          "output_type": "execute_result",
          "data": {
            "text/plain": [
              "<matplotlib.legend.Legend at 0x7db7d3710b00>"
            ]
          },
          "metadata": {},
          "execution_count": 44
        },
        {
          "output_type": "display_data",
          "data": {
            "text/plain": [
              "<Figure size 500x500 with 1 Axes>"
            ],
            "image/png": "[encoded data removed]"
          },
          "metadata": {}
        }
      ]
    },
    {
      "cell_type": "code",
      "source": [
        "from sklearn.metrics import roc_curve\n",
        "\n",
        "fpr, tpr, th = roc_curve(y_val, y_pred)\n",
        "\n",
        "plt.figure(figsize=(5, 5))\n",
        "plt.plot(fpr, tpr, label='model')\n",
        "plt.plot([0, 1], [0, 1], label='rand', linestyle='--')\n",
        "plt.xlabel('FPR')\n",
        "plt.ylabel('TPR')\n",
        "plt.legend()"
      ],
      "metadata": {
        "colab": {
          "base_uri": "https://localhost:8080/",
          "height": 482
        },
        "id": "5LGNETnq5PGC",
        "outputId": "2c9234b1-3fed-439c-a53d-cba2049f4580"
      },
      "execution_count": null,
      "outputs": [
        {
          "output_type": "execute_result",
          "data": {
            "text/plain": [
              "<matplotlib.legend.Legend at 0x7db7d491e000>"
            ]
          },
          "metadata": {},
          "execution_count": 45
        },
        {
          "output_type": "display_data",
          "data": {
            "text/plain": [
              "<Figure size 500x500 with 1 Axes>"
            ],
            "image/png": "[encoded data removed]"
          },
          "metadata": {}
        }
      ]
    },
    {
      "cell_type": "markdown",
      "source": [
        "ROC AUC\n",
        "\n",
        "Cross-Validation\n",
        "\n",
        "Summary\n",
        "\n",
        "Explore more"
      ],
      "metadata": {
        "id": "PfX-S6klvmvi"
      }
    },
    {
      "cell_type": "code",
      "source": [
        "from sklearn.metrics import auc\n",
        "\n",
        "auc_ = auc(fpr, tpr)\n",
        "\n",
        "b = auc(tpr, fpr)\n",
        "\n",
        "auc_, b"
      ],
      "metadata": {
        "colab": {
          "base_uri": "https://localhost:8080/"
        },
        "id": "jduZC9mHtxnW",
        "outputId": "38e6f0b4-6359-45eb-b9b7-17dbb859e8bf"
      },
      "execution_count": null,
      "outputs": [
        {
          "output_type": "execute_result",
          "data": {
            "text/plain": [
              "(np.float64(0.8445038720820102), np.float64(0.15549612791798986))"
            ]
          },
          "metadata": {},
          "execution_count": 48
        }
      ]
    },
    {
      "cell_type": "code",
      "source": [
        "auc(df_scores.fpr, df_scores.tpr)"
      ],
      "metadata": {
        "colab": {
          "base_uri": "https://localhost:8080/"
        },
        "id": "FAwNnDqTxCbB",
        "outputId": "5f522b6a-791e-49c4-c7e3-33f40dd07f4b"
      },
      "execution_count": null,
      "outputs": [
        {
          "output_type": "execute_result",
          "data": {
            "text/plain": [
              "np.float64(0.8443696534119398)"
            ]
          },
          "metadata": {},
          "execution_count": 51
        }
      ]
    },
    {
      "cell_type": "code",
      "source": [
        "fpr, tpr, threshold = roc_curve(y_val, y_pred)"
      ],
      "metadata": {
        "id": "TuxAVPnZz76_"
      },
      "execution_count": null,
      "outputs": []
    },
    {
      "cell_type": "code",
      "source": [
        "from sklearn.metrics import roc_auc_score\n",
        "roc_auc_score(y_val, y_pred)"
      ],
      "metadata": {
        "colab": {
          "base_uri": "https://localhost:8080/"
        },
        "id": "jTje8zp2xUTM",
        "outputId": "f563dff5-e989-4b09-c891-ed9727cec45d"
      },
      "execution_count": null,
      "outputs": [
        {
          "output_type": "execute_result",
          "data": {
            "text/plain": [
              "np.float64(0.8445038720820102)"
            ]
          },
          "metadata": {},
          "execution_count": 52
        }
      ]
    },
    {
      "cell_type": "code",
      "source": [
        "# auc: posibility of randoly select a positive exemple over a negative exemple"
      ],
      "metadata": {
        "id": "KMGhgBuX0pxD"
      },
      "execution_count": null,
      "outputs": []
    },
    {
      "cell_type": "code",
      "source": [
        "neg = y_pred[y_val == 0]\n",
        "pos = y_pred[y_val == 1]\n",
        "\n",
        "import random\n",
        "\n",
        "n=100000\n",
        "success = 0\n",
        "\n",
        "for i in range(n):\n",
        "  pos_i = random.randint(0, len(pos) - 1)\n",
        "  neg_i = random.randint(0, len(neg) - 1)\n",
        "\n",
        "  if pos[pos_i] > neg[neg_i]:\n",
        "    success = success + 1\n",
        "\n",
        "success /n"
      ],
      "metadata": {
        "colab": {
          "base_uri": "https://localhost:8080/"
        },
        "id": "4Iq7ecx603Cd",
        "outputId": "2c8337ea-dcc7-45a2-a95e-5d77d7466816"
      },
      "execution_count": null,
      "outputs": [
        {
          "output_type": "execute_result",
          "data": {
            "text/plain": [
              "0.84462"
            ]
          },
          "metadata": {},
          "execution_count": 60
        }
      ]
    },
    {
      "cell_type": "code",
      "source": [
        "def train(df, y_train):\n",
        "  dicts = df[categorical + numerical].to_dict(orient='records')\n",
        "\n",
        "  dv = DictVectorizer(sparse=False)\n",
        "  X_train = dv.fit_transform(dicts)\n",
        "\n",
        "  model = LogisticRegression()\n",
        "  model.fit(X_train, y_train)\n",
        "\n",
        "  return dv, model"
      ],
      "metadata": {
        "id": "CD7WjL8hAF-W"
      },
      "execution_count": null,
      "outputs": []
    },
    {
      "cell_type": "code",
      "source": [
        "dv, model = train(df_train, y_train)"
      ],
      "metadata": {
        "colab": {
          "base_uri": "https://localhost:8080/"
        },
        "id": "SPs2u31oAJY3",
        "outputId": "795bb434-a7f9-4b36-dbe2-15f0fc4cb155"
      },
      "execution_count": null,
      "outputs": [
        {
          "output_type": "stream",
          "name": "stderr",
          "text": [
            "/usr/local/lib/python3.12/dist-packages/sklearn/linear_model/_logistic.py:465: ConvergenceWarning: lbfgs failed to converge (status=1):\n",
            "STOP: TOTAL NO. OF ITERATIONS REACHED LIMIT.\n",
            "\n",
            "Increase the number of iterations (max_iter) or scale the data as shown in:\n",
            "    https://scikit-learn.org/stable/modules/preprocessing.html\n",
            "Please also refer to the documentation for alternative solver options:\n",
            "    https://scikit-learn.org/stable/modules/linear_model.html#logistic-regression\n",
            "  n_iter_i = _check_optimize_result(\n"
          ]
        }
      ]
    },
    {
      "cell_type": "code",
      "source": [
        "def predict(df, dv, model):\n",
        "   dicts = df[categorical + numerical].to_dict(orient='records')\n",
        "   X = dv.transform(dicts)\n",
        "   y_pred = model.predict_proba(X)[:, 1]\n",
        "\n",
        "   return y_pred"
      ],
      "metadata": {
        "id": "WNwnaKDQAK8Y"
      },
      "execution_count": null,
      "outputs": []
    },
    {
      "cell_type": "code",
      "source": [
        "y_pred = predict(df_val, dv, model)"
      ],
      "metadata": {
        "id": "Ij4HdJ-EA9Di"
      },
      "execution_count": null,
      "outputs": []
    },
    {
      "cell_type": "code",
      "source": [],
      "metadata": {
        "id": "yK11zjTtPPVG"
      },
      "execution_count": null,
      "outputs": []
    }
  ]
}